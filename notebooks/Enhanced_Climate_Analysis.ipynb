{
 "cells": [
  {
   "cell_type": "code",
   "execution_count": 2,
   "id": "9f798025-7be3-4243-9323-c9e5d08f9b65",
   "metadata": {},
   "outputs": [
    {
     "name": "stdout",
     "output_type": "stream",
     "text": [
      "Climate Intelligence Platform - Step 1\n",
      "==================================================\n",
      "Setting up our foundation...\n",
      "Climate Risk Intelligence Platform v1.0 initialized\n",
      "\n",
      "Creating project structure...\n",
      "Created folder: data\n",
      "Created folder: processed\n",
      "Created folder: models\n",
      "Created folder: outputs\n",
      "Created folder: notebooks\n",
      "\n",
      "Running basic tests...\n",
      "\n",
      "Testing basic functionality...\n",
      "Sample data created:\n",
      "     company      sector  risk_score\n",
      "0      Apple  Technology          25\n",
      "1  Microsoft  Technology          30\n",
      "2     Google  Technology          20\n",
      "\n",
      "Average risk score: 25.0\n",
      "Internet connection working - we can fetch data from APIs\n"
     ]
    }
   ],
   "source": [
    "# Step 1: Climate Intelligence Platform - Basic Setup\n",
    "# Let's start simple and build up gradually\n",
    "\n",
    "import os\n",
    "import pandas as pd\n",
    "import numpy as np\n",
    "import requests\n",
    "import json\n",
    "from datetime import datetime\n",
    "import warnings\n",
    "warnings.filterwarnings('ignore')\n",
    "\n",
    "print(\"Climate Intelligence Platform - Step 1\")\n",
    "print(\"=\" * 50)\n",
    "print(\"Setting up our foundation...\")\n",
    "\n",
    "class ClimateIntelligence:\n",
    "    \"\"\"\n",
    "    Our main platform class - starting simple\n",
    "    We'll add features step by step\n",
    "    \"\"\"\n",
    "    \n",
    "    def __init__(self):\n",
    "        self.project_name = \"Climate Risk Intelligence Platform\"\n",
    "        self.version = \"1.0\"\n",
    "        self.data = {}  # We'll store our data here\n",
    "        \n",
    "        print(f\"{self.project_name} v{self.version} initialized\")\n",
    "    \n",
    "    def create_project_structure(self):\n",
    "        \"\"\"\n",
    "        Create a clean folder structure for our project\n",
    "        This helps organize everything properly\n",
    "        \"\"\"\n",
    "        folders = [\n",
    "            'data',           # Raw data files\n",
    "            'processed',      # Cleaned data\n",
    "            'models',         # Our ML models\n",
    "            'outputs',        # Charts and reports\n",
    "            'notebooks'       # Jupyter notebooks for analysis\n",
    "        ]\n",
    "        \n",
    "        for folder in folders:\n",
    "            os.makedirs(folder, exist_ok=True)\n",
    "            print(f\"Created folder: {folder}\")\n",
    "    \n",
    "    def test_basic_functionality(self):\n",
    "        \"\"\"\n",
    "        Let's test that our basic tools work\n",
    "        \"\"\"\n",
    "        print(\"\\nTesting basic functionality...\")\n",
    "        \n",
    "        # Test pandas\n",
    "        sample_data = pd.DataFrame({\n",
    "            'company': ['Apple', 'Microsoft', 'Google'],\n",
    "            'sector': ['Technology', 'Technology', 'Technology'],\n",
    "            'risk_score': [25, 30, 20]\n",
    "        })\n",
    "        \n",
    "        print(\"Sample data created:\")\n",
    "        print(sample_data)\n",
    "        \n",
    "        # Test numpy\n",
    "        average_risk = np.mean(sample_data['risk_score'])\n",
    "        print(f\"\\nAverage risk score: {average_risk}\")\n",
    "        \n",
    "        # Test basic API connection (we'll use a simple public API)\n",
    "        try:\n",
    "            response = requests.get('https://httpbin.org/json', timeout=5)\n",
    "            if response.status_code == 200:\n",
    "                print(\"Internet connection working - we can fetch data from APIs\")\n",
    "            else:\n",
    "                print(\"API connection issue\")\n",
    "        except:\n",
    "            print(\"Internet connection problem\")\n",
    "        \n",
    "        return sample_data\n",
    "\n",
    "# Initialize our platform\n",
    "climate_platform = ClimateIntelligence()\n",
    "\n",
    "# Create our project structure\n",
    "print(\"\\nCreating project structure...\")\n",
    "climate_platform.create_project_structure()\n",
    "\n",
    "# Test basic functionality\n",
    "print(\"\\nRunning basic tests...\")\n",
    "sample_data = climate_platform.test_basic_functionality()\n"
   ]
  },
  {
   "cell_type": "code",
   "execution_count": 12,
   "id": "ff983419-3cd5-4cfb-b339-580c59b8613d",
   "metadata": {},
   "outputs": [
    {
     "name": "stdout",
     "output_type": "stream",
     "text": [
      "Starting Enhanced Climate Risk Analysis...\n",
      "============================================================\n",
      "Collecting enhanced financial data for 30 companies...\n",
      "Processing AAPL (1/30)\n",
      "Processing MSFT (2/30)\n",
      "Processing GOOGL (3/30)\n",
      "Processing NVDA (4/30)\n",
      "Processing ORCL (5/30)\n",
      "Processing CRM (6/30)\n",
      "Processing ADBE (7/30)\n",
      "Processing META (8/30)\n",
      "Processing NFLX (9/30)\n",
      "Processing DIS (10/30)\n",
      "Processing AMZN (11/30)\n",
      "Processing TSLA (12/30)\n",
      "Processing HD (13/30)\n",
      "Processing MCD (14/30)\n",
      "Processing NKE (15/30)\n",
      "Processing WMT (16/30)\n",
      "Processing PG (17/30)\n",
      "Processing KO (18/30)\n",
      "Processing PEP (19/30)\n",
      "Processing JNJ (20/30)\n",
      "Processing UNH (21/30)\n",
      "Processing PFE (22/30)\n",
      "Processing ABBV (23/30)\n",
      "Processing MRK (24/30)\n",
      "Processing TMO (25/30)\n",
      "Processing JPM (26/30)\n",
      "Processing BAC (27/30)\n",
      "Processing V (28/30)\n",
      "Processing MA (29/30)\n",
      "Processing WFC (30/30)\n",
      "Calculating enhanced climate risk scores...\n",
      "Creating time series climate risk trends...\n",
      "\n",
      "Enhanced Analysis Results:\n",
      "Companies analyzed: 30\n",
      "Time series data points: 240\n",
      "\n",
      "Top 10 Highest Risk Companies:\n",
      "symbol                         name             sector  composite_risk risk_category\n",
      "   PEP                PepsiCo, Inc. Consumer Defensive            48.6   Medium Risk\n",
      "    HD         The Home Depot, Inc.  Consumer Cyclical            48.5   Medium Risk\n",
      "    MA      Mastercard Incorporated Financial Services            46.1   Medium Risk\n",
      "   NKE                   NIKE, Inc.  Consumer Cyclical            45.9   Medium Risk\n",
      "    KO        The Coca-Cola Company Consumer Defensive            45.8   Medium Risk\n",
      "   WMT                 Walmart Inc. Consumer Defensive            44.4   Medium Risk\n",
      "    PG The Procter & Gamble Company Consumer Defensive            43.5   Medium Risk\n",
      "   MCD       McDonald's Corporation  Consumer Cyclical            42.8   Medium Risk\n",
      "     V                    Visa Inc. Financial Services            41.8   Medium Risk\n",
      "   BAC  Bank of America Corporation Financial Services            41.3   Medium Risk\n",
      "\n",
      "Risk Category Distribution:\n",
      "risk_category\n",
      "Medium Risk     14\n",
      "Minimal Risk    13\n",
      "Low Risk         3\n",
      "\n",
      "Sector Risk Summary:\n",
      "                        Avg_Risk  Stranded_Assets  Supply_Chain  Regulatory  Companies\n",
      "sector                                                                                \n",
      "Consumer Defensive          45.6             33.0          45.0        55.0          4\n",
      "Consumer Cyclical           43.6             31.2          45.0        55.0          5\n",
      "Financial Services          41.9             31.2          45.0        55.0          5\n",
      "Healthcare                  20.6             15.5          49.5        71.5          6\n",
      "Communication Services      11.4             10.0          45.0        60.5          4\n",
      "Technology                  10.8             10.7          58.5        49.5          6\n",
      "\n",
      "Saving enhanced data files...\n",
      "\n",
      "Files saved:\n",
      "- data/enhanced_financial_data.csv\n",
      "- data/enhanced_risk_analysis.csv\n",
      "- data/time_series_climate_data.csv\n",
      "\n",
      "Enhanced analysis complete!\n"
     ]
    }
   ],
   "source": [
    "# Step 2: Project Enhancement - Expand Companies and Improve Models\n",
    "import yfinance as yf\n",
    "import pandas as pd\n",
    "import numpy as np\n",
    "import time\n",
    "import os\n",
    "from datetime import datetime, timedelta\n",
    "\n",
    "class EnhancedClimateAnalyzer:\n",
    "    def __init__(self):\n",
    "        # Expanded company list - 50 major companies across all sectors\n",
    "        self.expanded_companies = [\n",
    "            # Technology\n",
    "            {'Symbol': 'AAPL', 'Security': 'Apple Inc.', 'Sector': 'Technology'},\n",
    "            {'Symbol': 'MSFT', 'Security': 'Microsoft Corporation', 'Sector': 'Technology'},\n",
    "            {'Symbol': 'GOOGL', 'Security': 'Alphabet Inc.', 'Sector': 'Technology'},\n",
    "            {'Symbol': 'NVDA', 'Security': 'NVIDIA Corporation', 'Sector': 'Technology'},\n",
    "            {'Symbol': 'ORCL', 'Security': 'Oracle Corporation', 'Sector': 'Technology'},\n",
    "            {'Symbol': 'CRM', 'Security': 'Salesforce Inc.', 'Sector': 'Technology'},\n",
    "            {'Symbol': 'ADBE', 'Security': 'Adobe Inc.', 'Sector': 'Technology'},\n",
    "            \n",
    "            # Communication Services\n",
    "            {'Symbol': 'META', 'Security': 'Meta Platforms Inc.', 'Sector': 'Communication Services'},\n",
    "            {'Symbol': 'NFLX', 'Security': 'Netflix Inc.', 'Sector': 'Communication Services'},\n",
    "            {'Symbol': 'DIS', 'Security': 'Walt Disney Company', 'Sector': 'Communication Services'},\n",
    "            \n",
    "            # Consumer Discretionary\n",
    "            {'Symbol': 'AMZN', 'Security': 'Amazon.com Inc.', 'Sector': 'Consumer Discretionary'},\n",
    "            {'Symbol': 'TSLA', 'Security': 'Tesla Inc.', 'Sector': 'Consumer Discretionary'},\n",
    "            {'Symbol': 'HD', 'Security': 'Home Depot Inc.', 'Sector': 'Consumer Discretionary'},\n",
    "            {'Symbol': 'MCD', 'Security': 'McDonalds Corporation', 'Sector': 'Consumer Discretionary'},\n",
    "            {'Symbol': 'NKE', 'Security': 'Nike Inc.', 'Sector': 'Consumer Discretionary'},\n",
    "            \n",
    "            # Consumer Staples\n",
    "            {'Symbol': 'WMT', 'Security': 'Walmart Inc.', 'Sector': 'Consumer Staples'},\n",
    "            {'Symbol': 'PG', 'Security': 'Procter & Gamble Co.', 'Sector': 'Consumer Staples'},\n",
    "            {'Symbol': 'KO', 'Security': 'Coca-Cola Company', 'Sector': 'Consumer Staples'},\n",
    "            {'Symbol': 'PEP', 'Security': 'PepsiCo Inc.', 'Sector': 'Consumer Staples'},\n",
    "            \n",
    "            # Healthcare\n",
    "            {'Symbol': 'JNJ', 'Security': 'Johnson & Johnson', 'Sector': 'Healthcare'},\n",
    "            {'Symbol': 'UNH', 'Security': 'UnitedHealth Group Inc.', 'Sector': 'Healthcare'},\n",
    "            {'Symbol': 'PFE', 'Security': 'Pfizer Inc.', 'Sector': 'Healthcare'},\n",
    "            {'Symbol': 'ABBV', 'Security': 'AbbVie Inc.', 'Sector': 'Healthcare'},\n",
    "            {'Symbol': 'MRK', 'Security': 'Merck & Co Inc.', 'Sector': 'Healthcare'},\n",
    "            {'Symbol': 'TMO', 'Security': 'Thermo Fisher Scientific', 'Sector': 'Healthcare'},\n",
    "            \n",
    "            # Financials\n",
    "            {'Symbol': 'JPM', 'Security': 'JPMorgan Chase & Co.', 'Sector': 'Financials'},\n",
    "            {'Symbol': 'BAC', 'Security': 'Bank of America Corp.', 'Sector': 'Financials'},\n",
    "            {'Symbol': 'V', 'Security': 'Visa Inc.', 'Sector': 'Financials'},\n",
    "            {'Symbol': 'MA', 'Security': 'Mastercard Inc.', 'Sector': 'Financials'},\n",
    "            {'Symbol': 'WFC', 'Security': 'Wells Fargo & Company', 'Sector': 'Financials'},\n",
    "            {'Symbol': 'GS', 'Security': 'Goldman Sachs Group Inc.', 'Sector': 'Financials'},\n",
    "            \n",
    "            # Energy\n",
    "            {'Symbol': 'XOM', 'Security': 'Exxon Mobil Corporation', 'Sector': 'Energy'},\n",
    "            {'Symbol': 'CVX', 'Security': 'Chevron Corporation', 'Sector': 'Energy'},\n",
    "            {'Symbol': 'COP', 'Security': 'ConocoPhillips', 'Sector': 'Energy'},\n",
    "            {'Symbol': 'SLB', 'Security': 'Schlumberger NV', 'Sector': 'Energy'},\n",
    "            \n",
    "            # Industrials\n",
    "            {'Symbol': 'BA', 'Security': 'Boeing Company', 'Sector': 'Industrials'},\n",
    "            {'Symbol': 'CAT', 'Security': 'Caterpillar Inc.', 'Sector': 'Industrials'},\n",
    "            {'Symbol': 'GE', 'Security': 'General Electric Company', 'Sector': 'Industrials'},\n",
    "            {'Symbol': 'UPS', 'Security': 'United Parcel Service', 'Sector': 'Industrials'},\n",
    "            \n",
    "            # Materials\n",
    "            {'Symbol': 'LIN', 'Security': 'Linde plc', 'Sector': 'Materials'},\n",
    "            {'Symbol': 'APD', 'Security': 'Air Products and Chemicals', 'Sector': 'Materials'},\n",
    "            \n",
    "            # Utilities\n",
    "            {'Symbol': 'NEE', 'Security': 'NextEra Energy Inc.', 'Sector': 'Utilities'},\n",
    "            {'Symbol': 'DUK', 'Security': 'Duke Energy Corporation', 'Sector': 'Utilities'},\n",
    "            \n",
    "            # Real Estate\n",
    "            {'Symbol': 'AMT', 'Security': 'American Tower Corporation', 'Sector': 'Real Estate'},\n",
    "            {'Symbol': 'PLD', 'Security': 'Prologis Inc.', 'Sector': 'Real Estate'},\n",
    "            \n",
    "            # Additional high-profile companies\n",
    "            {'Symbol': 'BRK-B', 'Security': 'Berkshire Hathaway Inc.', 'Sector': 'Financials'},\n",
    "            {'Symbol': 'SPY', 'Security': 'SPDR S&P 500 ETF Trust', 'Sector': 'ETF'},\n",
    "            {'Symbol': 'QQQ', 'Security': 'Invesco QQQ Trust', 'Sector': 'ETF'},\n",
    "            {'Symbol': 'VTI', 'Security': 'Vanguard Total Stock Market', 'Sector': 'ETF'}\n",
    "        ]\n",
    "        \n",
    "        # Enhanced sector risk profiles with more nuanced scoring\n",
    "        self.enhanced_risk_profiles = {\n",
    "            'Technology': {\n",
    "                'physical': 25, 'transition': 15, 'financial': 85,\n",
    "                'carbon_intensity': 'Low', 'regulatory_exposure': 'Medium'\n",
    "            },\n",
    "            'Communication Services': {\n",
    "                'physical': 20, 'transition': 20, 'financial': 80,\n",
    "                'carbon_intensity': 'Low', 'regulatory_exposure': 'High'\n",
    "            },\n",
    "            'Consumer Discretionary': {\n",
    "                'physical': 45, 'transition': 55, 'financial': 60,\n",
    "                'carbon_intensity': 'Medium', 'regulatory_exposure': 'Medium'\n",
    "            },\n",
    "            'Consumer Staples': {\n",
    "                'physical': 40, 'transition': 35, 'financial': 70,\n",
    "                'carbon_intensity': 'Medium', 'regulatory_exposure': 'Low'\n",
    "            },\n",
    "            'Healthcare': {\n",
    "                'physical': 30, 'transition': 25, 'financial': 75,\n",
    "                'carbon_intensity': 'Low', 'regulatory_exposure': 'High'\n",
    "            },\n",
    "            'Financials': {\n",
    "                'physical': 35, 'transition': 45, 'financial': 65,\n",
    "                'carbon_intensity': 'Low', 'regulatory_exposure': 'High'\n",
    "            },\n",
    "            'Energy': {\n",
    "                'physical': 85, 'transition': 95, 'financial': 35,\n",
    "                'carbon_intensity': 'Very High', 'regulatory_exposure': 'Very High'\n",
    "            },\n",
    "            'Industrials': {\n",
    "                'physical': 65, 'transition': 75, 'financial': 50,\n",
    "                'carbon_intensity': 'High', 'regulatory_exposure': 'High'\n",
    "            },\n",
    "            'Materials': {\n",
    "                'physical': 75, 'transition': 85, 'financial': 45,\n",
    "                'carbon_intensity': 'Very High', 'regulatory_exposure': 'High'\n",
    "            },\n",
    "            'Utilities': {\n",
    "                'physical': 80, 'transition': 90, 'financial': 55,\n",
    "                'carbon_intensity': 'Very High', 'regulatory_exposure': 'Very High'\n",
    "            },\n",
    "            'Real Estate': {\n",
    "                'physical': 70, 'transition': 50, 'financial': 50,\n",
    "                'carbon_intensity': 'Medium', 'regulatory_exposure': 'Medium'\n",
    "            },\n",
    "            'ETF': {\n",
    "                'physical': 40, 'transition': 40, 'financial': 60,\n",
    "                'carbon_intensity': 'Medium', 'regulatory_exposure': 'Low'\n",
    "            }\n",
    "        }\n",
    "    \n",
    "    def collect_enhanced_financial_data(self, sample_size=30):\n",
    "        \"\"\"Collect financial data with additional metrics\"\"\"\n",
    "        print(f\"Collecting enhanced financial data for {sample_size} companies...\")\n",
    "        \n",
    "        # Take a sample of companies\n",
    "        sample_companies = self.expanded_companies[:sample_size]\n",
    "        financial_data = []\n",
    "        \n",
    "        for i, company in enumerate(sample_companies):\n",
    "            symbol = company['Symbol']\n",
    "            print(f\"Processing {symbol} ({i+1}/{len(sample_companies)})\")\n",
    "            \n",
    "            try:\n",
    "                ticker = yf.Ticker(symbol)\n",
    "                info = ticker.info\n",
    "                \n",
    "                # Get historical data for volatility calculation\n",
    "                hist = ticker.history(period='1y')\n",
    "                \n",
    "                # Calculate additional metrics\n",
    "                if len(hist) > 0:\n",
    "                    volatility = hist['Close'].std() / hist['Close'].mean()\n",
    "                    ytd_return = ((hist['Close'][-1] / hist['Close'][0]) - 1) * 100\n",
    "                    avg_volume = hist['Volume'].mean()\n",
    "                else:\n",
    "                    volatility, ytd_return, avg_volume = 0, 0, 0\n",
    "                \n",
    "                financial_data.append({\n",
    "                    'symbol': symbol,\n",
    "                    'name': info.get('longName', company['Security']),\n",
    "                    'sector': info.get('sector', company['Sector']),\n",
    "                    'industry': info.get('industry', 'Unknown'),\n",
    "                    'market_cap': info.get('marketCap', 1000000000),\n",
    "                    'revenue': info.get('totalRevenue', 500000000),\n",
    "                    'employees': info.get('fullTimeEmployees', 10000),\n",
    "                    'country': info.get('country', 'United States'),\n",
    "                    'website': info.get('website', ''),\n",
    "                    'esg_score': info.get('esgScores', {}).get('totalEsg', 50) if info.get('esgScores') else 50,\n",
    "                    'beta': info.get('beta', 1.0),\n",
    "                    'pe_ratio': info.get('trailingPE', 20),\n",
    "                    'debt_to_equity': info.get('debtToEquity', 50),\n",
    "                    'profit_margin': info.get('profitMargins', 0.1),\n",
    "                    'volatility': volatility,\n",
    "                    'ytd_return': ytd_return,\n",
    "                    'avg_volume': avg_volume,\n",
    "                    'forward_pe': info.get('forwardPE', 20),\n",
    "                    'price_to_book': info.get('priceToBook', 3)\n",
    "                })\n",
    "                \n",
    "                time.sleep(0.3)  # Rate limiting\n",
    "                \n",
    "            except Exception as e:\n",
    "                print(f\"Error with {symbol}: {e}\")\n",
    "                # Use defaults\n",
    "                financial_data.append({\n",
    "                    'symbol': symbol,\n",
    "                    'name': company['Security'],\n",
    "                    'sector': company['Sector'],\n",
    "                    'industry': 'Unknown',\n",
    "                    'market_cap': 1000000000,\n",
    "                    'revenue': 500000000,\n",
    "                    'employees': 10000,\n",
    "                    'country': 'United States',\n",
    "                    'website': '',\n",
    "                    'esg_score': 50,\n",
    "                    'beta': 1.0,\n",
    "                    'pe_ratio': 20,\n",
    "                    'debt_to_equity': 50,\n",
    "                    'profit_margin': 0.1,\n",
    "                    'volatility': 0.2,\n",
    "                    'ytd_return': 10,\n",
    "                    'avg_volume': 1000000,\n",
    "                    'forward_pe': 20,\n",
    "                    'price_to_book': 3\n",
    "                })\n",
    "        \n",
    "        return pd.DataFrame(financial_data)\n",
    "    \n",
    "    def calculate_enhanced_climate_risk(self, df):\n",
    "        \"\"\"Enhanced climate risk calculation with more sophisticated models\"\"\"\n",
    "        print(\"Calculating enhanced climate risk scores...\")\n",
    "        \n",
    "        risk_results = []\n",
    "        \n",
    "        for _, company in df.iterrows():\n",
    "            sector = company['sector']\n",
    "            profile = self.enhanced_risk_profiles.get(sector, {\n",
    "                'physical': 50, 'transition': 50, 'financial': 50,\n",
    "                'carbon_intensity': 'Medium', 'regulatory_exposure': 'Medium'\n",
    "            })\n",
    "            \n",
    "            # Enhanced Physical Risk Calculation\n",
    "            base_physical = profile['physical']\n",
    "            \n",
    "            # Size adjustment (larger companies more resilient)\n",
    "            size_factor = 1.0\n",
    "            if company['market_cap'] > 1e12:  # > $1T\n",
    "                size_factor = 0.85\n",
    "            elif company['market_cap'] > 100e9:  # > $100B\n",
    "                size_factor = 0.92\n",
    "            \n",
    "            # Geographic diversification (based on employee count as proxy)\n",
    "            geo_factor = 1.0 if company['employees'] < 50000 else 0.95\n",
    "            \n",
    "            physical_risk = base_physical * size_factor * geo_factor\n",
    "            \n",
    "            # Enhanced Transition Risk Calculation\n",
    "            base_transition = profile['transition']\n",
    "            \n",
    "            # ESG adjustment\n",
    "            esg_factor = 1.0 - (company['esg_score'] - 50) / 200 if company['esg_score'] else 1.0\n",
    "            esg_factor = max(0.7, min(1.3, esg_factor))\n",
    "            \n",
    "            # Financial leverage adjustment\n",
    "            leverage_factor = 1.0 + (company['debt_to_equity'] - 50) / 500\n",
    "            leverage_factor = max(0.8, min(1.2, leverage_factor))\n",
    "            \n",
    "            transition_risk = base_transition * esg_factor * leverage_factor\n",
    "            \n",
    "            # Enhanced Financial Resilience\n",
    "            base_resilience = profile['financial']\n",
    "            \n",
    "            # Profitability bonus\n",
    "            profit_bonus = min(15, company['profit_margin'] * 100)\n",
    "            \n",
    "            # Market position bonus (based on market cap)\n",
    "            market_bonus = 0\n",
    "            if company['market_cap'] > 500e9:\n",
    "                market_bonus = 20\n",
    "            elif company['market_cap'] > 100e9:\n",
    "                market_bonus = 10\n",
    "            \n",
    "            # Financial efficiency (PE ratio consideration)\n",
    "            efficiency_factor = 1.0\n",
    "            if company['pe_ratio'] and 10 < company['pe_ratio'] < 25:\n",
    "                efficiency_factor = 1.1  # Healthy PE range\n",
    "            \n",
    "            financial_resilience = (base_resilience + profit_bonus + market_bonus) * efficiency_factor\n",
    "            \n",
    "            # Composite Risk with Enhanced Weighting\n",
    "            composite_risk = (\n",
    "                0.35 * physical_risk +\n",
    "                0.45 * transition_risk +\n",
    "                0.20 * (100 - financial_resilience)\n",
    "            )\n",
    "            \n",
    "            # Risk categorization\n",
    "            if composite_risk >= 80:\n",
    "                risk_category = 'Extreme Risk'\n",
    "            elif composite_risk >= 65:\n",
    "                risk_category = 'Critical Risk'\n",
    "            elif composite_risk >= 50:\n",
    "                risk_category = 'High Risk'\n",
    "            elif composite_risk >= 35:\n",
    "                risk_category = 'Medium Risk'\n",
    "            elif composite_risk >= 20:\n",
    "                risk_category = 'Low Risk'\n",
    "            else:\n",
    "                risk_category = 'Minimal Risk'\n",
    "            \n",
    "            # Additional risk metrics\n",
    "            stranded_asset_risk = self.calculate_stranded_asset_risk(sector, company)\n",
    "            supply_chain_risk = self.calculate_supply_chain_risk(sector, company)\n",
    "            regulatory_risk = self.calculate_regulatory_risk(sector, company)\n",
    "            \n",
    "            risk_results.append({\n",
    "                'symbol': company['symbol'],\n",
    "                'name': company['name'],\n",
    "                'sector': company['sector'],\n",
    "                'market_cap_billions': company['market_cap'] / 1e9,\n",
    "                'physical_risk': round(physical_risk, 1),\n",
    "                'transition_risk': round(transition_risk, 1),\n",
    "                'financial_resilience': round(financial_resilience, 1),\n",
    "                'composite_risk': round(composite_risk, 1),\n",
    "                'risk_category': risk_category,\n",
    "                'stranded_asset_risk': round(stranded_asset_risk, 1),\n",
    "                'supply_chain_risk': round(supply_chain_risk, 1),\n",
    "                'regulatory_risk': round(regulatory_risk, 1),\n",
    "                'carbon_intensity_category': profile['carbon_intensity'],\n",
    "                'esg_score': company['esg_score'],\n",
    "                'beta': company['beta'],\n",
    "                'volatility': round(company['volatility'] * 100, 1),\n",
    "                'ytd_return': round(company['ytd_return'], 1)\n",
    "            })\n",
    "        \n",
    "        return pd.DataFrame(risk_results)\n",
    "    \n",
    "    def calculate_stranded_asset_risk(self, sector, company):\n",
    "        \"\"\"Calculate risk of assets becoming stranded due to climate transition\"\"\"\n",
    "        base_risk = {\n",
    "            'Energy': 85, 'Materials': 70, 'Utilities': 75,\n",
    "            'Industrials': 45, 'Real Estate': 40, 'Financials': 25,\n",
    "            'Consumer Discretionary': 30, 'Consumer Staples': 25,\n",
    "            'Healthcare': 15, 'Technology': 10, 'Communication Services': 10,\n",
    "            'ETF': 30\n",
    "        }.get(sector, 30)\n",
    "        \n",
    "        # Adjust for company financial health\n",
    "        if company['debt_to_equity'] > 100:\n",
    "            base_risk *= 1.2\n",
    "        \n",
    "        return min(100, base_risk)\n",
    "    \n",
    "    def calculate_supply_chain_risk(self, sector, company):\n",
    "        \"\"\"Calculate supply chain climate vulnerability\"\"\"\n",
    "        base_risk = {\n",
    "            'Technology': 65, 'Consumer Discretionary': 70, 'Industrials': 75,\n",
    "            'Materials': 80, 'Energy': 60, 'Healthcare': 55,\n",
    "            'Consumer Staples': 65, 'Financials': 30, 'Utilities': 45,\n",
    "            'Communication Services': 50, 'Real Estate': 35, 'ETF': 40\n",
    "        }.get(sector, 50)\n",
    "        \n",
    "        # Adjust for company size (larger = more diversified supply chains)\n",
    "        if company['market_cap'] > 100e9:\n",
    "            base_risk *= 0.9\n",
    "        \n",
    "        return min(100, base_risk)\n",
    "    \n",
    "    def calculate_regulatory_risk(self, sector, company):\n",
    "        \"\"\"Calculate regulatory climate risk exposure\"\"\"\n",
    "        base_risk = {\n",
    "            'Energy': 95, 'Utilities': 90, 'Materials': 80,\n",
    "            'Industrials': 70, 'Financials': 75, 'Real Estate': 60,\n",
    "            'Consumer Discretionary': 55, 'Consumer Staples': 50,\n",
    "            'Healthcare': 65, 'Technology': 45, 'Communication Services': 55,\n",
    "            'ETF': 50\n",
    "        }.get(sector, 50)\n",
    "        \n",
    "        # Adjust for geographic exposure (US companies face more regulation)\n",
    "        if company['country'] == 'United States':\n",
    "            base_risk *= 1.1\n",
    "        \n",
    "        return min(100, base_risk)\n",
    "    \n",
    "    def create_time_series_analysis(self, df):\n",
    "        \"\"\"Create mock time series data for trend analysis\"\"\"\n",
    "        print(\"Creating time series climate risk trends...\")\n",
    "        \n",
    "        # Create monthly data for the past 2 years\n",
    "        dates = pd.date_range(start='2023-01-01', end='2024-12-31', freq='M')\n",
    "        \n",
    "        time_series_data = []\n",
    "        \n",
    "        for _, company in df.head(10).iterrows():  # Top 10 companies for demo\n",
    "            base_risk = company['composite_risk']\n",
    "            \n",
    "            for date in dates:\n",
    "                # Add some realistic trend and seasonality\n",
    "                months_from_start = (date.year - 2023) * 12 + date.month\n",
    "                \n",
    "                # Overall trend (climate risks generally increasing)\n",
    "                trend = base_risk + (months_from_start * 0.2)\n",
    "                \n",
    "                # Seasonal variation (higher in summer/winter)\n",
    "                seasonal = 3 * np.sin(2 * np.pi * date.month / 12)\n",
    "                \n",
    "                # Random noise\n",
    "                noise = np.random.normal(0, 2)\n",
    "                \n",
    "                risk_score = trend + seasonal + noise\n",
    "                risk_score = max(0, min(100, risk_score))  # Bound between 0-100\n",
    "                \n",
    "                time_series_data.append({\n",
    "                    'date': date,\n",
    "                    'symbol': company['symbol'],\n",
    "                    'company_name': company['name'],\n",
    "                    'sector': company['sector'],\n",
    "                    'risk_score': round(risk_score, 1)\n",
    "                })\n",
    "        \n",
    "        return pd.DataFrame(time_series_data)\n",
    "\n",
    "# Run the enhanced analysis\n",
    "print(\"Starting Enhanced Climate Risk Analysis...\")\n",
    "print(\"=\" * 60)\n",
    "\n",
    "analyzer = EnhancedClimateAnalyzer()\n",
    "\n",
    "# Step 1: Collect enhanced financial data (30 companies)\n",
    "enhanced_financial_data = analyzer.collect_enhanced_financial_data(sample_size=30)\n",
    "\n",
    "# Step 2: Calculate enhanced climate risks\n",
    "enhanced_risk_analysis = analyzer.calculate_enhanced_climate_risk(enhanced_financial_data)\n",
    "\n",
    "# Step 3: Create time series data\n",
    "time_series_data = analyzer.create_time_series_analysis(enhanced_risk_analysis)\n",
    "\n",
    "# Display results\n",
    "print(f\"\\nEnhanced Analysis Results:\")\n",
    "print(f\"Companies analyzed: {len(enhanced_risk_analysis)}\")\n",
    "print(f\"Time series data points: {len(time_series_data)}\")\n",
    "\n",
    "print(f\"\\nTop 10 Highest Risk Companies:\")\n",
    "top_risk = enhanced_risk_analysis.nlargest(10, 'composite_risk')[\n",
    "    ['symbol', 'name', 'sector', 'composite_risk', 'risk_category']\n",
    "]\n",
    "print(top_risk.to_string(index=False))\n",
    "\n",
    "print(f\"\\nRisk Category Distribution:\")\n",
    "risk_dist = enhanced_risk_analysis['risk_category'].value_counts()\n",
    "print(risk_dist.to_string())\n",
    "\n",
    "print(f\"\\nSector Risk Summary:\")\n",
    "sector_summary = enhanced_risk_analysis.groupby('sector').agg({\n",
    "    'composite_risk': 'mean',\n",
    "    'stranded_asset_risk': 'mean',\n",
    "    'supply_chain_risk': 'mean',\n",
    "    'regulatory_risk': 'mean',\n",
    "    'symbol': 'count'\n",
    "}).round(1)\n",
    "sector_summary.columns = ['Avg_Risk', 'Stranded_Assets', 'Supply_Chain', 'Regulatory', 'Companies']\n",
    "print(sector_summary.sort_values('Avg_Risk', ascending=False).to_string())\n",
    "\n",
    "# Save enhanced data\n",
    "print(f\"\\nSaving enhanced data files...\")\n",
    "enhanced_financial_data.to_csv('data/enhanced_financial_data.csv', index=False)\n",
    "enhanced_risk_analysis.to_csv('data/enhanced_risk_analysis.csv', index=False)\n",
    "time_series_data.to_csv('data/time_series_climate_data.csv', index=False)\n",
    "\n",
    "print(f\"\\nFiles saved:\")\n",
    "print(\"- data/enhanced_financial_data.csv\")\n",
    "print(\"- data/enhanced_risk_analysis.csv\") \n",
    "print(\"- data/time_series_climate_data.csv\")\n",
    "print(\"\\nEnhanced analysis complete!\")"
   ]
  },
  {
   "cell_type": "code",
   "execution_count": 13,
   "id": "974339c0-a0ad-4e07-8b40-56d52be79af5",
   "metadata": {},
   "outputs": [
    {
     "name": "stdout",
     "output_type": "stream",
     "text": [
      "Current directory: C:\\Users\\joshn\\Documents\\climate-intelligence-platform\\climate_env\n",
      "\n",
      "Checking for enhanced files:\n",
      "✗ Missing: enhanced_financial_data.csv\n",
      "✗ Missing: enhanced_risk_analysis.csv\n",
      "✗ Missing: time_series_climate_data.csv\n",
      "\n",
      "Checking data directory:\n",
      "✓ Found in data/: enhanced_financial_data.csv\n",
      "✓ Found in data/: enhanced_risk_analysis.csv\n",
      "✓ Found in data/: time_series_climate_data.csv\n"
     ]
    }
   ],
   "source": [
    "import os\n",
    "\n",
    "# Check current directory\n",
    "print(\"Current directory:\", os.getcwd())\n",
    "\n",
    "# Check if enhanced files exist\n",
    "enhanced_files = [\n",
    "    'enhanced_financial_data.csv',\n",
    "    'enhanced_risk_analysis.csv', \n",
    "    'time_series_climate_data.csv'\n",
    "]\n",
    "\n",
    "print(\"\\nChecking for enhanced files:\")\n",
    "for file in enhanced_files:\n",
    "    if os.path.exists(file):\n",
    "        print(f\"✓ Found: {file}\")\n",
    "        print(f\"  Full path: {os.path.abspath(file)}\")\n",
    "    else:\n",
    "        print(f\"✗ Missing: {file}\")\n",
    "\n",
    "# Also check in data directory\n",
    "print(\"\\nChecking data directory:\")\n",
    "for file in enhanced_files:\n",
    "    data_file = f\"data/{file}\"\n",
    "    if os.path.exists(data_file):\n",
    "        print(f\"✓ Found in data/: {file}\")\n",
    "    else:\n",
    "        print(f\"✗ Missing in data/: {file}\")"
   ]
  },
  {
   "cell_type": "code",
   "execution_count": 6,
   "id": "6d46f046-f647-4b1f-a5ca-56329986ef1c",
   "metadata": {},
   "outputs": [
    {
     "name": "stdout",
     "output_type": "stream",
     "text": [
      "Step 4.1: Loading climate risk analysis data...\n",
      "Loaded risk analysis for 20 companies\n",
      "Step 4.2: Creating visualizations...\n",
      "Summary Statistics:\n",
      "                    Metric                  Value\n",
      "  Total Companies Analyzed                     20\n",
      "        Average Risk Score                   34.1\n",
      "      Highest Risk Company                    XOM\n",
      "       Lowest Risk Company                  GOOGL\n",
      "         Most Risky Sector                 Energy\n",
      "        Least Risky Sector Communication Services\n",
      "Companies in Critical Risk                      2\n",
      " Companies in Minimal Risk                      5\n",
      "\n",
      "Step 4.3: Generating charts...\n",
      "Created: Risk distribution chart\n",
      "Created: Sector analysis chart\n",
      "Created: Risk components chart\n",
      "Created: Risk vs market cap scatter plot\n",
      "\n",
      "Step 4.4: Displaying charts...\n"
     ]
    },
    {
     "data": {
      "application/vnd.plotly.v1+json": {
       "config": {
        "plotlyServerURL": "https://plot.ly"
       },
       "data": [
        {
         "marker": {
          "color": [
           "#00b894",
           "#00b894",
           "#00b894",
           "#00b894",
           "#00b894",
           "#6c5ce7",
           "#6c5ce7",
           "#6c5ce7",
           "#6c5ce7",
           "#6c5ce7",
           "#6c5ce7",
           "#6c5ce7",
           "#6c5ce7",
           "#6c5ce7",
           "#6c5ce7",
           "#6c5ce7",
           "#6c5ce7",
           "#fdcb6e",
           "#d63031",
           "#d63031"
          ]
         },
         "orientation": "h",
         "text": {
          "bdata": "ZmZmZmZmMUBmZmZmZmYxQAAAAAAAgDFAAAAAAACAMUAAAAAAAIAxQAAAAAAAgDpAAAAAAACAOkAAAAAAAIA6QAAAAAAAgDpAmpmZmZnZQECamZmZmdlAQGZmZmZm5kBAAAAAAAAAQUDNzMzMzMxBQGZmZmZm5kFAZmZmZmZmQ0BmZmZmZuZDQGZmZmZm5kVAAAAAAADgU0AAAAAAAOBTQA==",
          "dtype": "f8"
         },
         "textposition": "auto",
         "type": "bar",
         "x": {
          "bdata": "ZmZmZmZmMUBmZmZmZmYxQAAAAAAAgDFAAAAAAACAMUAAAAAAAIAxQAAAAAAAgDpAAAAAAACAOkAAAAAAAIA6QAAAAAAAgDpAmpmZmZnZQECamZmZmdlAQGZmZmZm5kBAAAAAAAAAQUDNzMzMzMxBQGZmZmZm5kFAZmZmZmZmQ0BmZmZmZuZDQGZmZmZm5kVAAAAAAADgU0AAAAAAAOBTQA==",
          "dtype": "f8"
         },
         "y": [
          "GOOGL",
          "META",
          "MSFT",
          "AAPL",
          "NVDA",
          "JNJ",
          "UNH",
          "PFE",
          "ABBV",
          "PG",
          "KO",
          "JPM",
          "WMT",
          "BAC",
          "V",
          "TSLA",
          "AMZN",
          "HD",
          "CVX",
          "XOM"
         ]
        }
       ],
       "layout": {
        "height": 600,
        "showlegend": false,
        "template": {
         "data": {
          "bar": [
           {
            "error_x": {
             "color": "#2a3f5f"
            },
            "error_y": {
             "color": "#2a3f5f"
            },
            "marker": {
             "line": {
              "color": "#E5ECF6",
              "width": 0.5
             },
             "pattern": {
              "fillmode": "overlay",
              "size": 10,
              "solidity": 0.2
             }
            },
            "type": "bar"
           }
          ],
          "barpolar": [
           {
            "marker": {
             "line": {
              "color": "#E5ECF6",
              "width": 0.5
             },
             "pattern": {
              "fillmode": "overlay",
              "size": 10,
              "solidity": 0.2
             }
            },
            "type": "barpolar"
           }
          ],
          "carpet": [
           {
            "aaxis": {
             "endlinecolor": "#2a3f5f",
             "gridcolor": "white",
             "linecolor": "white",
             "minorgridcolor": "white",
             "startlinecolor": "#2a3f5f"
            },
            "baxis": {
             "endlinecolor": "#2a3f5f",
             "gridcolor": "white",
             "linecolor": "white",
             "minorgridcolor": "white",
             "startlinecolor": "#2a3f5f"
            },
            "type": "carpet"
           }
          ],
          "choropleth": [
           {
            "colorbar": {
             "outlinewidth": 0,
             "ticks": ""
            },
            "type": "choropleth"
           }
          ],
          "contour": [
           {
            "colorbar": {
             "outlinewidth": 0,
             "ticks": ""
            },
            "colorscale": [
             [
              0,
              "#0d0887"
             ],
             [
              0.1111111111111111,
              "#46039f"
             ],
             [
              0.2222222222222222,
              "#7201a8"
             ],
             [
              0.3333333333333333,
              "#9c179e"
             ],
             [
              0.4444444444444444,
              "#bd3786"
             ],
             [
              0.5555555555555556,
              "#d8576b"
             ],
             [
              0.6666666666666666,
              "#ed7953"
             ],
             [
              0.7777777777777778,
              "#fb9f3a"
             ],
             [
              0.8888888888888888,
              "#fdca26"
             ],
             [
              1,
              "#f0f921"
             ]
            ],
            "type": "contour"
           }
          ],
          "contourcarpet": [
           {
            "colorbar": {
             "outlinewidth": 0,
             "ticks": ""
            },
            "type": "contourcarpet"
           }
          ],
          "heatmap": [
           {
            "colorbar": {
             "outlinewidth": 0,
             "ticks": ""
            },
            "colorscale": [
             [
              0,
              "#0d0887"
             ],
             [
              0.1111111111111111,
              "#46039f"
             ],
             [
              0.2222222222222222,
              "#7201a8"
             ],
             [
              0.3333333333333333,
              "#9c179e"
             ],
             [
              0.4444444444444444,
              "#bd3786"
             ],
             [
              0.5555555555555556,
              "#d8576b"
             ],
             [
              0.6666666666666666,
              "#ed7953"
             ],
             [
              0.7777777777777778,
              "#fb9f3a"
             ],
             [
              0.8888888888888888,
              "#fdca26"
             ],
             [
              1,
              "#f0f921"
             ]
            ],
            "type": "heatmap"
           }
          ],
          "histogram": [
           {
            "marker": {
             "pattern": {
              "fillmode": "overlay",
              "size": 10,
              "solidity": 0.2
             }
            },
            "type": "histogram"
           }
          ],
          "histogram2d": [
           {
            "colorbar": {
             "outlinewidth": 0,
             "ticks": ""
            },
            "colorscale": [
             [
              0,
              "#0d0887"
             ],
             [
              0.1111111111111111,
              "#46039f"
             ],
             [
              0.2222222222222222,
              "#7201a8"
             ],
             [
              0.3333333333333333,
              "#9c179e"
             ],
             [
              0.4444444444444444,
              "#bd3786"
             ],
             [
              0.5555555555555556,
              "#d8576b"
             ],
             [
              0.6666666666666666,
              "#ed7953"
             ],
             [
              0.7777777777777778,
              "#fb9f3a"
             ],
             [
              0.8888888888888888,
              "#fdca26"
             ],
             [
              1,
              "#f0f921"
             ]
            ],
            "type": "histogram2d"
           }
          ],
          "histogram2dcontour": [
           {
            "colorbar": {
             "outlinewidth": 0,
             "ticks": ""
            },
            "colorscale": [
             [
              0,
              "#0d0887"
             ],
             [
              0.1111111111111111,
              "#46039f"
             ],
             [
              0.2222222222222222,
              "#7201a8"
             ],
             [
              0.3333333333333333,
              "#9c179e"
             ],
             [
              0.4444444444444444,
              "#bd3786"
             ],
             [
              0.5555555555555556,
              "#d8576b"
             ],
             [
              0.6666666666666666,
              "#ed7953"
             ],
             [
              0.7777777777777778,
              "#fb9f3a"
             ],
             [
              0.8888888888888888,
              "#fdca26"
             ],
             [
              1,
              "#f0f921"
             ]
            ],
            "type": "histogram2dcontour"
           }
          ],
          "mesh3d": [
           {
            "colorbar": {
             "outlinewidth": 0,
             "ticks": ""
            },
            "type": "mesh3d"
           }
          ],
          "parcoords": [
           {
            "line": {
             "colorbar": {
              "outlinewidth": 0,
              "ticks": ""
             }
            },
            "type": "parcoords"
           }
          ],
          "pie": [
           {
            "automargin": true,
            "type": "pie"
           }
          ],
          "scatter": [
           {
            "fillpattern": {
             "fillmode": "overlay",
             "size": 10,
             "solidity": 0.2
            },
            "type": "scatter"
           }
          ],
          "scatter3d": [
           {
            "line": {
             "colorbar": {
              "outlinewidth": 0,
              "ticks": ""
             }
            },
            "marker": {
             "colorbar": {
              "outlinewidth": 0,
              "ticks": ""
             }
            },
            "type": "scatter3d"
           }
          ],
          "scattercarpet": [
           {
            "marker": {
             "colorbar": {
              "outlinewidth": 0,
              "ticks": ""
             }
            },
            "type": "scattercarpet"
           }
          ],
          "scattergeo": [
           {
            "marker": {
             "colorbar": {
              "outlinewidth": 0,
              "ticks": ""
             }
            },
            "type": "scattergeo"
           }
          ],
          "scattergl": [
           {
            "marker": {
             "colorbar": {
              "outlinewidth": 0,
              "ticks": ""
             }
            },
            "type": "scattergl"
           }
          ],
          "scattermap": [
           {
            "marker": {
             "colorbar": {
              "outlinewidth": 0,
              "ticks": ""
             }
            },
            "type": "scattermap"
           }
          ],
          "scattermapbox": [
           {
            "marker": {
             "colorbar": {
              "outlinewidth": 0,
              "ticks": ""
             }
            },
            "type": "scattermapbox"
           }
          ],
          "scatterpolar": [
           {
            "marker": {
             "colorbar": {
              "outlinewidth": 0,
              "ticks": ""
             }
            },
            "type": "scatterpolar"
           }
          ],
          "scatterpolargl": [
           {
            "marker": {
             "colorbar": {
              "outlinewidth": 0,
              "ticks": ""
             }
            },
            "type": "scatterpolargl"
           }
          ],
          "scatterternary": [
           {
            "marker": {
             "colorbar": {
              "outlinewidth": 0,
              "ticks": ""
             }
            },
            "type": "scatterternary"
           }
          ],
          "surface": [
           {
            "colorbar": {
             "outlinewidth": 0,
             "ticks": ""
            },
            "colorscale": [
             [
              0,
              "#0d0887"
             ],
             [
              0.1111111111111111,
              "#46039f"
             ],
             [
              0.2222222222222222,
              "#7201a8"
             ],
             [
              0.3333333333333333,
              "#9c179e"
             ],
             [
              0.4444444444444444,
              "#bd3786"
             ],
             [
              0.5555555555555556,
              "#d8576b"
             ],
             [
              0.6666666666666666,
              "#ed7953"
             ],
             [
              0.7777777777777778,
              "#fb9f3a"
             ],
             [
              0.8888888888888888,
              "#fdca26"
             ],
             [
              1,
              "#f0f921"
             ]
            ],
            "type": "surface"
           }
          ],
          "table": [
           {
            "cells": {
             "fill": {
              "color": "#EBF0F8"
             },
             "line": {
              "color": "white"
             }
            },
            "header": {
             "fill": {
              "color": "#C8D4E3"
             },
             "line": {
              "color": "white"
             }
            },
            "type": "table"
           }
          ]
         },
         "layout": {
          "annotationdefaults": {
           "arrowcolor": "#2a3f5f",
           "arrowhead": 0,
           "arrowwidth": 1
          },
          "autotypenumbers": "strict",
          "coloraxis": {
           "colorbar": {
            "outlinewidth": 0,
            "ticks": ""
           }
          },
          "colorscale": {
           "diverging": [
            [
             0,
             "#8e0152"
            ],
            [
             0.1,
             "#c51b7d"
            ],
            [
             0.2,
             "#de77ae"
            ],
            [
             0.3,
             "#f1b6da"
            ],
            [
             0.4,
             "#fde0ef"
            ],
            [
             0.5,
             "#f7f7f7"
            ],
            [
             0.6,
             "#e6f5d0"
            ],
            [
             0.7,
             "#b8e186"
            ],
            [
             0.8,
             "#7fbc41"
            ],
            [
             0.9,
             "#4d9221"
            ],
            [
             1,
             "#276419"
            ]
           ],
           "sequential": [
            [
             0,
             "#0d0887"
            ],
            [
             0.1111111111111111,
             "#46039f"
            ],
            [
             0.2222222222222222,
             "#7201a8"
            ],
            [
             0.3333333333333333,
             "#9c179e"
            ],
            [
             0.4444444444444444,
             "#bd3786"
            ],
            [
             0.5555555555555556,
             "#d8576b"
            ],
            [
             0.6666666666666666,
             "#ed7953"
            ],
            [
             0.7777777777777778,
             "#fb9f3a"
            ],
            [
             0.8888888888888888,
             "#fdca26"
            ],
            [
             1,
             "#f0f921"
            ]
           ],
           "sequentialminus": [
            [
             0,
             "#0d0887"
            ],
            [
             0.1111111111111111,
             "#46039f"
            ],
            [
             0.2222222222222222,
             "#7201a8"
            ],
            [
             0.3333333333333333,
             "#9c179e"
            ],
            [
             0.4444444444444444,
             "#bd3786"
            ],
            [
             0.5555555555555556,
             "#d8576b"
            ],
            [
             0.6666666666666666,
             "#ed7953"
            ],
            [
             0.7777777777777778,
             "#fb9f3a"
            ],
            [
             0.8888888888888888,
             "#fdca26"
            ],
            [
             1,
             "#f0f921"
            ]
           ]
          },
          "colorway": [
           "#636efa",
           "#EF553B",
           "#00cc96",
           "#ab63fa",
           "#FFA15A",
           "#19d3f3",
           "#FF6692",
           "#B6E880",
           "#FF97FF",
           "#FECB52"
          ],
          "font": {
           "color": "#2a3f5f"
          },
          "geo": {
           "bgcolor": "white",
           "lakecolor": "white",
           "landcolor": "#E5ECF6",
           "showlakes": true,
           "showland": true,
           "subunitcolor": "white"
          },
          "hoverlabel": {
           "align": "left"
          },
          "hovermode": "closest",
          "mapbox": {
           "style": "light"
          },
          "paper_bgcolor": "white",
          "plot_bgcolor": "#E5ECF6",
          "polar": {
           "angularaxis": {
            "gridcolor": "white",
            "linecolor": "white",
            "ticks": ""
           },
           "bgcolor": "#E5ECF6",
           "radialaxis": {
            "gridcolor": "white",
            "linecolor": "white",
            "ticks": ""
           }
          },
          "scene": {
           "xaxis": {
            "backgroundcolor": "#E5ECF6",
            "gridcolor": "white",
            "gridwidth": 2,
            "linecolor": "white",
            "showbackground": true,
            "ticks": "",
            "zerolinecolor": "white"
           },
           "yaxis": {
            "backgroundcolor": "#E5ECF6",
            "gridcolor": "white",
            "gridwidth": 2,
            "linecolor": "white",
            "showbackground": true,
            "ticks": "",
            "zerolinecolor": "white"
           },
           "zaxis": {
            "backgroundcolor": "#E5ECF6",
            "gridcolor": "white",
            "gridwidth": 2,
            "linecolor": "white",
            "showbackground": true,
            "ticks": "",
            "zerolinecolor": "white"
           }
          },
          "shapedefaults": {
           "line": {
            "color": "#2a3f5f"
           }
          },
          "ternary": {
           "aaxis": {
            "gridcolor": "white",
            "linecolor": "white",
            "ticks": ""
           },
           "baxis": {
            "gridcolor": "white",
            "linecolor": "white",
            "ticks": ""
           },
           "bgcolor": "#E5ECF6",
           "caxis": {
            "gridcolor": "white",
            "linecolor": "white",
            "ticks": ""
           }
          },
          "title": {
           "x": 0.05
          },
          "xaxis": {
           "automargin": true,
           "gridcolor": "white",
           "linecolor": "white",
           "ticks": "",
           "title": {
            "standoff": 15
           },
           "zerolinecolor": "white",
           "zerolinewidth": 2
          },
          "yaxis": {
           "automargin": true,
           "gridcolor": "white",
           "linecolor": "white",
           "ticks": "",
           "title": {
            "standoff": 15
           },
           "zerolinecolor": "white",
           "zerolinewidth": 2
          }
         }
        },
        "title": {
         "text": "Climate Risk Scores by Company"
        },
        "xaxis": {
         "title": {
          "text": "Climate Risk Score (0-100)"
         }
        },
        "yaxis": {
         "title": {
          "text": "Company"
         }
        }
       }
      },
      "image/png": "[encoded data removed]"
     },
     "metadata": {},
     "output_type": "display_data"
    },
    {
     "data": {
      "application/vnd.plotly.v1+json": {
       "config": {
        "plotlyServerURL": "https://plot.ly"
       },
       "data": [
        {
         "marker": {
          "color": "steelblue"
         },
         "name": "Average Risk",
         "text": {
          "bdata": "AAAAAADgU0BmZmZmZmZEQM3MzMzMjEFAZmZmZmbmQEAAAAAAAIA6QAAAAAAAgDFAZmZmZmZmMUA=",
          "dtype": "f8"
         },
         "textposition": "auto",
         "type": "bar",
         "x": [
          "Energy",
          "Consumer Cyclical",
          "Financial Services",
          "Consumer Defensive",
          "Healthcare",
          "Technology",
          "Communication Services"
         ],
         "y": {
          "bdata": "AAAAAADgU0BmZmZmZmZEQM3MzMzMjEFAZmZmZmbmQEAAAAAAAIA6QAAAAAAAgDFAZmZmZmZmMUA=",
          "dtype": "f8"
         }
        },
        {
         "marker": {
          "color": "red",
          "size": 8,
          "symbol": "triangle-up"
         },
         "mode": "markers",
         "name": "Max Risk",
         "type": "scatter",
         "x": [
          "Energy",
          "Consumer Cyclical",
          "Financial Services",
          "Consumer Defensive",
          "Healthcare",
          "Technology",
          "Communication Services"
         ],
         "y": {
          "bdata": "AAAAAADgU0BmZmZmZuZFQGZmZmZm5kFAAAAAAAAAQUAAAAAAAIA6QAAAAAAAgDFAZmZmZmZmMUA=",
          "dtype": "f8"
         }
        },
        {
         "marker": {
          "color": "green",
          "size": 8,
          "symbol": "triangle-down"
         },
         "mode": "markers",
         "name": "Min Risk",
         "type": "scatter",
         "x": [
          "Energy",
          "Consumer Cyclical",
          "Financial Services",
          "Consumer Defensive",
          "Healthcare",
          "Technology",
          "Communication Services"
         ],
         "y": {
          "bdata": "AAAAAADgU0BmZmZmZmZDQGZmZmZm5kBAmpmZmZnZQEAAAAAAAIA6QAAAAAAAgDFAZmZmZmZmMUA=",
          "dtype": "f8"
         }
        }
       ],
       "layout": {
        "height": 500,
        "template": {
         "data": {
          "bar": [
           {
            "error_x": {
             "color": "#2a3f5f"
            },
            "error_y": {
             "color": "#2a3f5f"
            },
            "marker": {
             "line": {
              "color": "#E5ECF6",
              "width": 0.5
             },
             "pattern": {
              "fillmode": "overlay",
              "size": 10,
              "solidity": 0.2
             }
            },
            "type": "bar"
           }
          ],
          "barpolar": [
           {
            "marker": {
             "line": {
              "color": "#E5ECF6",
              "width": 0.5
             },
             "pattern": {
              "fillmode": "overlay",
              "size": 10,
              "solidity": 0.2
             }
            },
            "type": "barpolar"
           }
          ],
          "carpet": [
           {
            "aaxis": {
             "endlinecolor": "#2a3f5f",
             "gridcolor": "white",
             "linecolor": "white",
             "minorgridcolor": "white",
             "startlinecolor": "#2a3f5f"
            },
            "baxis": {
             "endlinecolor": "#2a3f5f",
             "gridcolor": "white",
             "linecolor": "white",
             "minorgridcolor": "white",
             "startlinecolor": "#2a3f5f"
            },
            "type": "carpet"
           }
          ],
          "choropleth": [
           {
            "colorbar": {
             "outlinewidth": 0,
             "ticks": ""
            },
            "type": "choropleth"
           }
          ],
          "contour": [
           {
            "colorbar": {
             "outlinewidth": 0,
             "ticks": ""
            },
            "colorscale": [
             [
              0,
              "#0d0887"
             ],
             [
              0.1111111111111111,
              "#46039f"
             ],
             [
              0.2222222222222222,
              "#7201a8"
             ],
             [
              0.3333333333333333,
              "#9c179e"
             ],
             [
              0.4444444444444444,
              "#bd3786"
             ],
             [
              0.5555555555555556,
              "#d8576b"
             ],
             [
              0.6666666666666666,
              "#ed7953"
             ],
             [
              0.7777777777777778,
              "#fb9f3a"
             ],
             [
              0.8888888888888888,
              "#fdca26"
             ],
             [
              1,
              "#f0f921"
             ]
            ],
            "type": "contour"
           }
          ],
          "contourcarpet": [
           {
            "colorbar": {
             "outlinewidth": 0,
             "ticks": ""
            },
            "type": "contourcarpet"
           }
          ],
          "heatmap": [
           {
            "colorbar": {
             "outlinewidth": 0,
             "ticks": ""
            },
            "colorscale": [
             [
              0,
              "#0d0887"
             ],
             [
              0.1111111111111111,
              "#46039f"
             ],
             [
              0.2222222222222222,
              "#7201a8"
             ],
             [
              0.3333333333333333,
              "#9c179e"
             ],
             [
              0.4444444444444444,
              "#bd3786"
             ],
             [
              0.5555555555555556,
              "#d8576b"
             ],
             [
              0.6666666666666666,
              "#ed7953"
             ],
             [
              0.7777777777777778,
              "#fb9f3a"
             ],
             [
              0.8888888888888888,
              "#fdca26"
             ],
             [
              1,
              "#f0f921"
             ]
            ],
            "type": "heatmap"
           }
          ],
          "histogram": [
           {
            "marker": {
             "pattern": {
              "fillmode": "overlay",
              "size": 10,
              "solidity": 0.2
             }
            },
            "type": "histogram"
           }
          ],
          "histogram2d": [
           {
            "colorbar": {
             "outlinewidth": 0,
             "ticks": ""
            },
            "colorscale": [
             [
              0,
              "#0d0887"
             ],
             [
              0.1111111111111111,
              "#46039f"
             ],
             [
              0.2222222222222222,
              "#7201a8"
             ],
             [
              0.3333333333333333,
              "#9c179e"
             ],
             [
              0.4444444444444444,
              "#bd3786"
             ],
             [
              0.5555555555555556,
              "#d8576b"
             ],
             [
              0.6666666666666666,
              "#ed7953"
             ],
             [
              0.7777777777777778,
              "#fb9f3a"
             ],
             [
              0.8888888888888888,
              "#fdca26"
             ],
             [
              1,
              "#f0f921"
             ]
            ],
            "type": "histogram2d"
           }
          ],
          "histogram2dcontour": [
           {
            "colorbar": {
             "outlinewidth": 0,
             "ticks": ""
            },
            "colorscale": [
             [
              0,
              "#0d0887"
             ],
             [
              0.1111111111111111,
              "#46039f"
             ],
             [
              0.2222222222222222,
              "#7201a8"
             ],
             [
              0.3333333333333333,
              "#9c179e"
             ],
             [
              0.4444444444444444,
              "#bd3786"
             ],
             [
              0.5555555555555556,
              "#d8576b"
             ],
             [
              0.6666666666666666,
              "#ed7953"
             ],
             [
              0.7777777777777778,
              "#fb9f3a"
             ],
             [
              0.8888888888888888,
              "#fdca26"
             ],
             [
              1,
              "#f0f921"
             ]
            ],
            "type": "histogram2dcontour"
           }
          ],
          "mesh3d": [
           {
            "colorbar": {
             "outlinewidth": 0,
             "ticks": ""
            },
            "type": "mesh3d"
           }
          ],
          "parcoords": [
           {
            "line": {
             "colorbar": {
              "outlinewidth": 0,
              "ticks": ""
             }
            },
            "type": "parcoords"
           }
          ],
          "pie": [
           {
            "automargin": true,
            "type": "pie"
           }
          ],
          "scatter": [
           {
            "fillpattern": {
             "fillmode": "overlay",
             "size": 10,
             "solidity": 0.2
            },
            "type": "scatter"
           }
          ],
          "scatter3d": [
           {
            "line": {
             "colorbar": {
              "outlinewidth": 0,
              "ticks": ""
             }
            },
            "marker": {
             "colorbar": {
              "outlinewidth": 0,
              "ticks": ""
             }
            },
            "type": "scatter3d"
           }
          ],
          "scattercarpet": [
           {
            "marker": {
             "colorbar": {
              "outlinewidth": 0,
              "ticks": ""
             }
            },
            "type": "scattercarpet"
           }
          ],
          "scattergeo": [
           {
            "marker": {
             "colorbar": {
              "outlinewidth": 0,
              "ticks": ""
             }
            },
            "type": "scattergeo"
           }
          ],
          "scattergl": [
           {
            "marker": {
             "colorbar": {
              "outlinewidth": 0,
              "ticks": ""
             }
            },
            "type": "scattergl"
           }
          ],
          "scattermap": [
           {
            "marker": {
             "colorbar": {
              "outlinewidth": 0,
              "ticks": ""
             }
            },
            "type": "scattermap"
           }
          ],
          "scattermapbox": [
           {
            "marker": {
             "colorbar": {
              "outlinewidth": 0,
              "ticks": ""
             }
            },
            "type": "scattermapbox"
           }
          ],
          "scatterpolar": [
           {
            "marker": {
             "colorbar": {
              "outlinewidth": 0,
              "ticks": ""
             }
            },
            "type": "scatterpolar"
           }
          ],
          "scatterpolargl": [
           {
            "marker": {
             "colorbar": {
              "outlinewidth": 0,
              "ticks": ""
             }
            },
            "type": "scatterpolargl"
           }
          ],
          "scatterternary": [
           {
            "marker": {
             "colorbar": {
              "outlinewidth": 0,
              "ticks": ""
             }
            },
            "type": "scatterternary"
           }
          ],
          "surface": [
           {
            "colorbar": {
             "outlinewidth": 0,
             "ticks": ""
            },
            "colorscale": [
             [
              0,
              "#0d0887"
             ],
             [
              0.1111111111111111,
              "#46039f"
             ],
             [
              0.2222222222222222,
              "#7201a8"
             ],
             [
              0.3333333333333333,
              "#9c179e"
             ],
             [
              0.4444444444444444,
              "#bd3786"
             ],
             [
              0.5555555555555556,
              "#d8576b"
             ],
             [
              0.6666666666666666,
              "#ed7953"
             ],
             [
              0.7777777777777778,
              "#fb9f3a"
             ],
             [
              0.8888888888888888,
              "#fdca26"
             ],
             [
              1,
              "#f0f921"
             ]
            ],
            "type": "surface"
           }
          ],
          "table": [
           {
            "cells": {
             "fill": {
              "color": "#EBF0F8"
             },
             "line": {
              "color": "white"
             }
            },
            "header": {
             "fill": {
              "color": "#C8D4E3"
             },
             "line": {
              "color": "white"
             }
            },
            "type": "table"
           }
          ]
         },
         "layout": {
          "annotationdefaults": {
           "arrowcolor": "#2a3f5f",
           "arrowhead": 0,
           "arrowwidth": 1
          },
          "autotypenumbers": "strict",
          "coloraxis": {
           "colorbar": {
            "outlinewidth": 0,
            "ticks": ""
           }
          },
          "colorscale": {
           "diverging": [
            [
             0,
             "#8e0152"
            ],
            [
             0.1,
             "#c51b7d"
            ],
            [
             0.2,
             "#de77ae"
            ],
            [
             0.3,
             "#f1b6da"
            ],
            [
             0.4,
             "#fde0ef"
            ],
            [
             0.5,
             "#f7f7f7"
            ],
            [
             0.6,
             "#e6f5d0"
            ],
            [
             0.7,
             "#b8e186"
            ],
            [
             0.8,
             "#7fbc41"
            ],
            [
             0.9,
             "#4d9221"
            ],
            [
             1,
             "#276419"
            ]
           ],
           "sequential": [
            [
             0,
             "#0d0887"
            ],
            [
             0.1111111111111111,
             "#46039f"
            ],
            [
             0.2222222222222222,
             "#7201a8"
            ],
            [
             0.3333333333333333,
             "#9c179e"
            ],
            [
             0.4444444444444444,
             "#bd3786"
            ],
            [
             0.5555555555555556,
             "#d8576b"
            ],
            [
             0.6666666666666666,
             "#ed7953"
            ],
            [
             0.7777777777777778,
             "#fb9f3a"
            ],
            [
             0.8888888888888888,
             "#fdca26"
            ],
            [
             1,
             "#f0f921"
            ]
           ],
           "sequentialminus": [
            [
             0,
             "#0d0887"
            ],
            [
             0.1111111111111111,
             "#46039f"
            ],
            [
             0.2222222222222222,
             "#7201a8"
            ],
            [
             0.3333333333333333,
             "#9c179e"
            ],
            [
             0.4444444444444444,
             "#bd3786"
            ],
            [
             0.5555555555555556,
             "#d8576b"
            ],
            [
             0.6666666666666666,
             "#ed7953"
            ],
            [
             0.7777777777777778,
             "#fb9f3a"
            ],
            [
             0.8888888888888888,
             "#fdca26"
            ],
            [
             1,
             "#f0f921"
            ]
           ]
          },
          "colorway": [
           "#636efa",
           "#EF553B",
           "#00cc96",
           "#ab63fa",
           "#FFA15A",
           "#19d3f3",
           "#FF6692",
           "#B6E880",
           "#FF97FF",
           "#FECB52"
          ],
          "font": {
           "color": "#2a3f5f"
          },
          "geo": {
           "bgcolor": "white",
           "lakecolor": "white",
           "landcolor": "#E5ECF6",
           "showlakes": true,
           "showland": true,
           "subunitcolor": "white"
          },
          "hoverlabel": {
           "align": "left"
          },
          "hovermode": "closest",
          "mapbox": {
           "style": "light"
          },
          "paper_bgcolor": "white",
          "plot_bgcolor": "#E5ECF6",
          "polar": {
           "angularaxis": {
            "gridcolor": "white",
            "linecolor": "white",
            "ticks": ""
           },
           "bgcolor": "#E5ECF6",
           "radialaxis": {
            "gridcolor": "white",
            "linecolor": "white",
            "ticks": ""
           }
          },
          "scene": {
           "xaxis": {
            "backgroundcolor": "#E5ECF6",
            "gridcolor": "white",
            "gridwidth": 2,
            "linecolor": "white",
            "showbackground": true,
            "ticks": "",
            "zerolinecolor": "white"
           },
           "yaxis": {
            "backgroundcolor": "#E5ECF6",
            "gridcolor": "white",
            "gridwidth": 2,
            "linecolor": "white",
            "showbackground": true,
            "ticks": "",
            "zerolinecolor": "white"
           },
           "zaxis": {
            "backgroundcolor": "#E5ECF6",
            "gridcolor": "white",
            "gridwidth": 2,
            "linecolor": "white",
            "showbackground": true,
            "ticks": "",
            "zerolinecolor": "white"
           }
          },
          "shapedefaults": {
           "line": {
            "color": "#2a3f5f"
           }
          },
          "ternary": {
           "aaxis": {
            "gridcolor": "white",
            "linecolor": "white",
            "ticks": ""
           },
           "baxis": {
            "gridcolor": "white",
            "linecolor": "white",
            "ticks": ""
           },
           "bgcolor": "#E5ECF6",
           "caxis": {
            "gridcolor": "white",
            "linecolor": "white",
            "ticks": ""
           }
          },
          "title": {
           "x": 0.05
          },
          "xaxis": {
           "automargin": true,
           "gridcolor": "white",
           "linecolor": "white",
           "ticks": "",
           "title": {
            "standoff": 15
           },
           "zerolinecolor": "white",
           "zerolinewidth": 2
          },
          "yaxis": {
           "automargin": true,
           "gridcolor": "white",
           "linecolor": "white",
           "ticks": "",
           "title": {
            "standoff": 15
           },
           "zerolinecolor": "white",
           "zerolinewidth": 2
          }
         }
        },
        "title": {
         "text": "Climate Risk Analysis by Sector"
        },
        "xaxis": {
         "title": {
          "text": "Sector"
         }
        },
        "yaxis": {
         "title": {
          "text": "Risk Score"
         }
        }
       }
      },
      "image/png": "[encoded data removed]"
     },
     "metadata": {},
     "output_type": "display_data"
    },
    {
     "data": {
      "application/vnd.plotly.v1+json": {
       "config": {
        "plotlyServerURL": "https://plot.ly"
       },
       "data": [
        {
         "marker": {
          "color": "lightcoral"
         },
         "name": "Physical Risk",
         "type": "bar",
         "x": [
          "NVDA",
          "MSFT",
          "AAPL",
          "AMZN",
          "GOOGL",
          "META",
          "TSLA",
          "JPM",
          "WMT",
          "V"
         ],
         "y": {
          "bdata": "zczMzMzMOEDNzMzMzMw4QM3MzMzMzDhAzczMzMxMRkDNzMzMzMwzQM3MzMzMzDNAzczMzMxMRkDNzMzMzExCQGZmZmZm5kRAzczMzMxMQkA=",
          "dtype": "f8"
         }
        },
        {
         "marker": {
          "color": "lightblue"
         },
         "name": "Transition Risk",
         "type": "bar",
         "x": [
          "NVDA",
          "MSFT",
          "AAPL",
          "AMZN",
          "GOOGL",
          "META",
          "TSLA",
          "JPM",
          "WMT",
          "V"
         ],
         "y": {
          "bdata": "AAAAAAAAM0AAAAAAAAAzQAAAAAAAADNAAAAAAADAR0DNzMzMzMw3QM3MzMzMzDdAAAAAAADAR0AAAAAAAABDQJqZmZmZmUBAAAAAAAAAQ0A=",
          "dtype": "f8"
         }
        },
        {
         "marker": {
          "color": "lightyellow"
         },
         "name": "Low Resilience",
         "type": "bar",
         "x": [
          "NVDA",
          "MSFT",
          "AAPL",
          "AMZN",
          "GOOGL",
          "META",
          "TSLA",
          "JPM",
          "WMT",
          "V"
         ],
         "y": {
          "bdata": "AAAADwAAChQUHg==",
          "dtype": "i1"
         }
        }
       ],
       "layout": {
        "barmode": "group",
        "height": 500,
        "template": {
         "data": {
          "bar": [
           {
            "error_x": {
             "color": "#2a3f5f"
            },
            "error_y": {
             "color": "#2a3f5f"
            },
            "marker": {
             "line": {
              "color": "#E5ECF6",
              "width": 0.5
             },
             "pattern": {
              "fillmode": "overlay",
              "size": 10,
              "solidity": 0.2
             }
            },
            "type": "bar"
           }
          ],
          "barpolar": [
           {
            "marker": {
             "line": {
              "color": "#E5ECF6",
              "width": 0.5
             },
             "pattern": {
              "fillmode": "overlay",
              "size": 10,
              "solidity": 0.2
             }
            },
            "type": "barpolar"
           }
          ],
          "carpet": [
           {
            "aaxis": {
             "endlinecolor": "#2a3f5f",
             "gridcolor": "white",
             "linecolor": "white",
             "minorgridcolor": "white",
             "startlinecolor": "#2a3f5f"
            },
            "baxis": {
             "endlinecolor": "#2a3f5f",
             "gridcolor": "white",
             "linecolor": "white",
             "minorgridcolor": "white",
             "startlinecolor": "#2a3f5f"
            },
            "type": "carpet"
           }
          ],
          "choropleth": [
           {
            "colorbar": {
             "outlinewidth": 0,
             "ticks": ""
            },
            "type": "choropleth"
           }
          ],
          "contour": [
           {
            "colorbar": {
             "outlinewidth": 0,
             "ticks": ""
            },
            "colorscale": [
             [
              0,
              "#0d0887"
             ],
             [
              0.1111111111111111,
              "#46039f"
             ],
             [
              0.2222222222222222,
              "#7201a8"
             ],
             [
              0.3333333333333333,
              "#9c179e"
             ],
             [
              0.4444444444444444,
              "#bd3786"
             ],
             [
              0.5555555555555556,
              "#d8576b"
             ],
             [
              0.6666666666666666,
              "#ed7953"
             ],
             [
              0.7777777777777778,
              "#fb9f3a"
             ],
             [
              0.8888888888888888,
              "#fdca26"
             ],
             [
              1,
              "#f0f921"
             ]
            ],
            "type": "contour"
           }
          ],
          "contourcarpet": [
           {
            "colorbar": {
             "outlinewidth": 0,
             "ticks": ""
            },
            "type": "contourcarpet"
           }
          ],
          "heatmap": [
           {
            "colorbar": {
             "outlinewidth": 0,
             "ticks": ""
            },
            "colorscale": [
             [
              0,
              "#0d0887"
             ],
             [
              0.1111111111111111,
              "#46039f"
             ],
             [
              0.2222222222222222,
              "#7201a8"
             ],
             [
              0.3333333333333333,
              "#9c179e"
             ],
             [
              0.4444444444444444,
              "#bd3786"
             ],
             [
              0.5555555555555556,
              "#d8576b"
             ],
             [
              0.6666666666666666,
              "#ed7953"
             ],
             [
              0.7777777777777778,
              "#fb9f3a"
             ],
             [
              0.8888888888888888,
              "#fdca26"
             ],
             [
              1,
              "#f0f921"
             ]
            ],
            "type": "heatmap"
           }
          ],
          "histogram": [
           {
            "marker": {
             "pattern": {
              "fillmode": "overlay",
              "size": 10,
              "solidity": 0.2
             }
            },
            "type": "histogram"
           }
          ],
          "histogram2d": [
           {
            "colorbar": {
             "outlinewidth": 0,
             "ticks": ""
            },
            "colorscale": [
             [
              0,
              "#0d0887"
             ],
             [
              0.1111111111111111,
              "#46039f"
             ],
             [
              0.2222222222222222,
              "#7201a8"
             ],
             [
              0.3333333333333333,
              "#9c179e"
             ],
             [
              0.4444444444444444,
              "#bd3786"
             ],
             [
              0.5555555555555556,
              "#d8576b"
             ],
             [
              0.6666666666666666,
              "#ed7953"
             ],
             [
              0.7777777777777778,
              "#fb9f3a"
             ],
             [
              0.8888888888888888,
              "#fdca26"
             ],
             [
              1,
              "#f0f921"
             ]
            ],
            "type": "histogram2d"
           }
          ],
          "histogram2dcontour": [
           {
            "colorbar": {
             "outlinewidth": 0,
             "ticks": ""
            },
            "colorscale": [
             [
              0,
              "#0d0887"
             ],
             [
              0.1111111111111111,
              "#46039f"
             ],
             [
              0.2222222222222222,
              "#7201a8"
             ],
             [
              0.3333333333333333,
              "#9c179e"
             ],
             [
              0.4444444444444444,
              "#bd3786"
             ],
             [
              0.5555555555555556,
              "#d8576b"
             ],
             [
              0.6666666666666666,
              "#ed7953"
             ],
             [
              0.7777777777777778,
              "#fb9f3a"
             ],
             [
              0.8888888888888888,
              "#fdca26"
             ],
             [
              1,
              "#f0f921"
             ]
            ],
            "type": "histogram2dcontour"
           }
          ],
          "mesh3d": [
           {
            "colorbar": {
             "outlinewidth": 0,
             "ticks": ""
            },
            "type": "mesh3d"
           }
          ],
          "parcoords": [
           {
            "line": {
             "colorbar": {
              "outlinewidth": 0,
              "ticks": ""
             }
            },
            "type": "parcoords"
           }
          ],
          "pie": [
           {
            "automargin": true,
            "type": "pie"
           }
          ],
          "scatter": [
           {
            "fillpattern": {
             "fillmode": "overlay",
             "size": 10,
             "solidity": 0.2
            },
            "type": "scatter"
           }
          ],
          "scatter3d": [
           {
            "line": {
             "colorbar": {
              "outlinewidth": 0,
              "ticks": ""
             }
            },
            "marker": {
             "colorbar": {
              "outlinewidth": 0,
              "ticks": ""
             }
            },
            "type": "scatter3d"
           }
          ],
          "scattercarpet": [
           {
            "marker": {
             "colorbar": {
              "outlinewidth": 0,
              "ticks": ""
             }
            },
            "type": "scattercarpet"
           }
          ],
          "scattergeo": [
           {
            "marker": {
             "colorbar": {
              "outlinewidth": 0,
              "ticks": ""
             }
            },
            "type": "scattergeo"
           }
          ],
          "scattergl": [
           {
            "marker": {
             "colorbar": {
              "outlinewidth": 0,
              "ticks": ""
             }
            },
            "type": "scattergl"
           }
          ],
          "scattermap": [
           {
            "marker": {
             "colorbar": {
              "outlinewidth": 0,
              "ticks": ""
             }
            },
            "type": "scattermap"
           }
          ],
          "scattermapbox": [
           {
            "marker": {
             "colorbar": {
              "outlinewidth": 0,
              "ticks": ""
             }
            },
            "type": "scattermapbox"
           }
          ],
          "scatterpolar": [
           {
            "marker": {
             "colorbar": {
              "outlinewidth": 0,
              "ticks": ""
             }
            },
            "type": "scatterpolar"
           }
          ],
          "scatterpolargl": [
           {
            "marker": {
             "colorbar": {
              "outlinewidth": 0,
              "ticks": ""
             }
            },
            "type": "scatterpolargl"
           }
          ],
          "scatterternary": [
           {
            "marker": {
             "colorbar": {
              "outlinewidth": 0,
              "ticks": ""
             }
            },
            "type": "scatterternary"
           }
          ],
          "surface": [
           {
            "colorbar": {
             "outlinewidth": 0,
             "ticks": ""
            },
            "colorscale": [
             [
              0,
              "#0d0887"
             ],
             [
              0.1111111111111111,
              "#46039f"
             ],
             [
              0.2222222222222222,
              "#7201a8"
             ],
             [
              0.3333333333333333,
              "#9c179e"
             ],
             [
              0.4444444444444444,
              "#bd3786"
             ],
             [
              0.5555555555555556,
              "#d8576b"
             ],
             [
              0.6666666666666666,
              "#ed7953"
             ],
             [
              0.7777777777777778,
              "#fb9f3a"
             ],
             [
              0.8888888888888888,
              "#fdca26"
             ],
             [
              1,
              "#f0f921"
             ]
            ],
            "type": "surface"
           }
          ],
          "table": [
           {
            "cells": {
             "fill": {
              "color": "#EBF0F8"
             },
             "line": {
              "color": "white"
             }
            },
            "header": {
             "fill": {
              "color": "#C8D4E3"
             },
             "line": {
              "color": "white"
             }
            },
            "type": "table"
           }
          ]
         },
         "layout": {
          "annotationdefaults": {
           "arrowcolor": "#2a3f5f",
           "arrowhead": 0,
           "arrowwidth": 1
          },
          "autotypenumbers": "strict",
          "coloraxis": {
           "colorbar": {
            "outlinewidth": 0,
            "ticks": ""
           }
          },
          "colorscale": {
           "diverging": [
            [
             0,
             "#8e0152"
            ],
            [
             0.1,
             "#c51b7d"
            ],
            [
             0.2,
             "#de77ae"
            ],
            [
             0.3,
             "#f1b6da"
            ],
            [
             0.4,
             "#fde0ef"
            ],
            [
             0.5,
             "#f7f7f7"
            ],
            [
             0.6,
             "#e6f5d0"
            ],
            [
             0.7,
             "#b8e186"
            ],
            [
             0.8,
             "#7fbc41"
            ],
            [
             0.9,
             "#4d9221"
            ],
            [
             1,
             "#276419"
            ]
           ],
           "sequential": [
            [
             0,
             "#0d0887"
            ],
            [
             0.1111111111111111,
             "#46039f"
            ],
            [
             0.2222222222222222,
             "#7201a8"
            ],
            [
             0.3333333333333333,
             "#9c179e"
            ],
            [
             0.4444444444444444,
             "#bd3786"
            ],
            [
             0.5555555555555556,
             "#d8576b"
            ],
            [
             0.6666666666666666,
             "#ed7953"
            ],
            [
             0.7777777777777778,
             "#fb9f3a"
            ],
            [
             0.8888888888888888,
             "#fdca26"
            ],
            [
             1,
             "#f0f921"
            ]
           ],
           "sequentialminus": [
            [
             0,
             "#0d0887"
            ],
            [
             0.1111111111111111,
             "#46039f"
            ],
            [
             0.2222222222222222,
             "#7201a8"
            ],
            [
             0.3333333333333333,
             "#9c179e"
            ],
            [
             0.4444444444444444,
             "#bd3786"
            ],
            [
             0.5555555555555556,
             "#d8576b"
            ],
            [
             0.6666666666666666,
             "#ed7953"
            ],
            [
             0.7777777777777778,
             "#fb9f3a"
            ],
            [
             0.8888888888888888,
             "#fdca26"
            ],
            [
             1,
             "#f0f921"
            ]
           ]
          },
          "colorway": [
           "#636efa",
           "#EF553B",
           "#00cc96",
           "#ab63fa",
           "#FFA15A",
           "#19d3f3",
           "#FF6692",
           "#B6E880",
           "#FF97FF",
           "#FECB52"
          ],
          "font": {
           "color": "#2a3f5f"
          },
          "geo": {
           "bgcolor": "white",
           "lakecolor": "white",
           "landcolor": "#E5ECF6",
           "showlakes": true,
           "showland": true,
           "subunitcolor": "white"
          },
          "hoverlabel": {
           "align": "left"
          },
          "hovermode": "closest",
          "mapbox": {
           "style": "light"
          },
          "paper_bgcolor": "white",
          "plot_bgcolor": "#E5ECF6",
          "polar": {
           "angularaxis": {
            "gridcolor": "white",
            "linecolor": "white",
            "ticks": ""
           },
           "bgcolor": "#E5ECF6",
           "radialaxis": {
            "gridcolor": "white",
            "linecolor": "white",
            "ticks": ""
           }
          },
          "scene": {
           "xaxis": {
            "backgroundcolor": "#E5ECF6",
            "gridcolor": "white",
            "gridwidth": 2,
            "linecolor": "white",
            "showbackground": true,
            "ticks": "",
            "zerolinecolor": "white"
           },
           "yaxis": {
            "backgroundcolor": "#E5ECF6",
            "gridcolor": "white",
            "gridwidth": 2,
            "linecolor": "white",
            "showbackground": true,
            "ticks": "",
            "zerolinecolor": "white"
           },
           "zaxis": {
            "backgroundcolor": "#E5ECF6",
            "gridcolor": "white",
            "gridwidth": 2,
            "linecolor": "white",
            "showbackground": true,
            "ticks": "",
            "zerolinecolor": "white"
           }
          },
          "shapedefaults": {
           "line": {
            "color": "#2a3f5f"
           }
          },
          "ternary": {
           "aaxis": {
            "gridcolor": "white",
            "linecolor": "white",
            "ticks": ""
           },
           "baxis": {
            "gridcolor": "white",
            "linecolor": "white",
            "ticks": ""
           },
           "bgcolor": "#E5ECF6",
           "caxis": {
            "gridcolor": "white",
            "linecolor": "white",
            "ticks": ""
           }
          },
          "title": {
           "x": 0.05
          },
          "xaxis": {
           "automargin": true,
           "gridcolor": "white",
           "linecolor": "white",
           "ticks": "",
           "title": {
            "standoff": 15
           },
           "zerolinecolor": "white",
           "zerolinewidth": 2
          },
          "yaxis": {
           "automargin": true,
           "gridcolor": "white",
           "linecolor": "white",
           "ticks": "",
           "title": {
            "standoff": 15
           },
           "zerolinecolor": "white",
           "zerolinewidth": 2
          }
         }
        },
        "title": {
         "text": "Climate Risk Components - Top 10 Companies by Market Cap"
        },
        "xaxis": {
         "title": {
          "text": "Company"
         }
        },
        "yaxis": {
         "title": {
          "text": "Risk Score"
         }
        }
       }
      },
      "image/png": "[encoded data removed]"
     },
     "metadata": {},
     "output_type": "display_data"
    },
    {
     "data": {
      "application/vnd.plotly.v1+json": {
       "config": {
        "plotlyServerURL": "https://plot.ly"
       },
       "data": [
        {
         "customdata": [
          [
           "AAPL",
           "Apple Inc.",
           "Technology"
          ],
          [
           "MSFT",
           "Microsoft Corporation",
           "Technology"
          ],
          [
           "GOOGL",
           "Alphabet Inc.",
           "Communication Services"
          ],
          [
           "META",
           "Meta Platforms, Inc.",
           "Communication Services"
          ],
          [
           "NVDA",
           "NVIDIA Corporation",
           "Technology"
          ]
         ],
         "hovertemplate": "risk_category=Minimal Risk<br>Market Cap (Billions USD)=%{marker.size}<br>Climate Risk Score=%{y}<br>symbol=%{customdata[0]}<br>name=%{customdata[1]}<br>sector=%{customdata[2]}<extra></extra>",
         "legendgroup": "Minimal Risk",
         "marker": {
          "color": "#00b894",
          "size": {
           "bdata": "Gk1KG/D0qEAVt1M4V9StQEGw2JZpSqJAFgxqnKb/m0AJnXKtP4ewQA==",
           "dtype": "f8"
          },
          "sizemode": "area",
          "sizeref": 10.57812185088,
          "symbol": "circle"
         },
         "mode": "markers",
         "name": "Minimal Risk",
         "orientation": "v",
         "showlegend": true,
         "type": "scatter",
         "x": {
          "bdata": "Gk1KG/D0qEAVt1M4V9StQEGw2JZpSqJAFgxqnKb/m0AJnXKtP4ewQA==",
          "dtype": "f8"
         },
         "xaxis": "x",
         "y": {
          "bdata": "AAAAAACAMUAAAAAAAIAxQGZmZmZmZjFAZmZmZmZmMUAAAAAAAIAxQA==",
          "dtype": "f8"
         },
         "yaxis": "y"
        },
        {
         "customdata": [
          [
           "AMZN",
           "Amazon.com, Inc.",
           "Consumer Cyclical"
          ],
          [
           "TSLA",
           "Tesla, Inc.",
           "Consumer Cyclical"
          ],
          [
           "JPM",
           "JPMorgan Chase & Co.",
           "Financial Services"
          ],
          [
           "JNJ",
           "Johnson & Johnson",
           "Healthcare"
          ],
          [
           "V",
           "Visa Inc.",
           "Financial Services"
          ],
          [
           "PG",
           "The Procter & Gamble Company",
           "Consumer Defensive"
          ],
          [
           "UNH",
           "UnitedHealth Group Incorporated",
           "Healthcare"
          ],
          [
           "KO",
           "The Coca-Cola Company",
           "Consumer Defensive"
          ],
          [
           "PFE",
           "Pfizer Inc.",
           "Healthcare"
          ],
          [
           "BAC",
           "Bank of America Corporation",
           "Financial Services"
          ],
          [
           "ABBV",
           "AbbVie Inc.",
           "Healthcare"
          ],
          [
           "WMT",
           "Walmart Inc.",
           "Consumer Defensive"
          ]
         ],
         "hovertemplate": "risk_category=Low Risk<br>Market Cap (Billions USD)=%{marker.size}<br>Climate Risk Score=%{y}<br>symbol=%{customdata[0]}<br>name=%{customdata[1]}<br>sector=%{customdata[2]}<extra></extra>",
         "legendgroup": "Low Risk",
         "marker": {
          "color": "#6c5ce7",
          "size": {
           "bdata": "MnvHkx4yo0DkdwVofNuPQOSFB9zZqIlAm7zxgy1VeUCDMvBQ0suFQG7UEkRAMndA8pnLkb7eb0BHaV8O9ZpyQNBVwiwXnmFAgnrkI+qEdkA87YbzxAF1QJxg8wLQTohA",
           "dtype": "f8"
          },
          "sizemode": "area",
          "sizeref": 10.57812185088,
          "symbol": "circle"
         },
         "mode": "markers",
         "name": "Low Risk",
         "orientation": "v",
         "showlegend": true,
         "type": "scatter",
         "x": {
          "bdata": "MnvHkx4yo0DkdwVofNuPQOSFB9zZqIlAm7zxgy1VeUCDMvBQ0suFQG7UEkRAMndA8pnLkb7eb0BHaV8O9ZpyQNBVwiwXnmFAgnrkI+qEdkA87YbzxAF1QJxg8wLQTohA",
          "dtype": "f8"
         },
         "xaxis": "x",
         "y": {
          "bdata": "ZmZmZmbmQ0BmZmZmZmZDQGZmZmZm5kBAAAAAAACAOkBmZmZmZuZBQJqZmZmZ2UBAAAAAAACAOkCamZmZmdlAQAAAAAAAgDpAzczMzMzMQUAAAAAAAIA6QAAAAAAAAEFA",
          "dtype": "f8"
         },
         "yaxis": "y"
        },
        {
         "customdata": [
          [
           "HD",
           "The Home Depot, Inc.",
           "Consumer Cyclical"
          ]
         ],
         "hovertemplate": "risk_category=Medium Risk<br>Market Cap (Billions USD)=%{marker.size}<br>Climate Risk Score=%{y}<br>symbol=%{customdata[0]}<br>name=%{customdata[1]}<br>sector=%{customdata[2]}<extra></extra>",
         "legendgroup": "Medium Risk",
         "marker": {
          "color": "#fdcb6e",
          "size": {
           "bdata": "95fnBftWd0A=",
           "dtype": "f8"
          },
          "sizemode": "area",
          "sizeref": 10.57812185088,
          "symbol": "circle"
         },
         "mode": "markers",
         "name": "Medium Risk",
         "orientation": "v",
         "showlegend": true,
         "type": "scatter",
         "x": {
          "bdata": "95fnBftWd0A=",
          "dtype": "f8"
         },
         "xaxis": "x",
         "y": {
          "bdata": "ZmZmZmbmRUA=",
          "dtype": "f8"
         },
         "yaxis": "y"
        },
        {
         "customdata": [
          [
           "XOM",
           "Exxon Mobil Corporation",
           "Energy"
          ],
          [
           "CVX",
           "Chevron Corporation",
           "Energy"
          ]
         ],
         "hovertemplate": "risk_category=Critical Risk<br>Market Cap (Billions USD)=%{marker.size}<br>Climate Risk Score=%{y}<br>symbol=%{customdata[0]}<br>name=%{customdata[1]}<br>sector=%{customdata[2]}<extra></extra>",
         "legendgroup": "Critical Risk",
         "marker": {
          "color": "#d63031",
          "size": {
           "bdata": "DF5ma4y8fUCkBnp4NK1zQA==",
           "dtype": "f8"
          },
          "sizemode": "area",
          "sizeref": 10.57812185088,
          "symbol": "circle"
         },
         "mode": "markers",
         "name": "Critical Risk",
         "orientation": "v",
         "showlegend": true,
         "type": "scatter",
         "x": {
          "bdata": "DF5ma4y8fUCkBnp4NK1zQA==",
          "dtype": "f8"
         },
         "xaxis": "x",
         "y": {
          "bdata": "AAAAAADgU0AAAAAAAOBTQA==",
          "dtype": "f8"
         },
         "yaxis": "y"
        }
       ],
       "layout": {
        "height": 500,
        "legend": {
         "itemsizing": "constant",
         "title": {
          "text": "risk_category"
         },
         "tracegroupgap": 0
        },
        "template": {
         "data": {
          "bar": [
           {
            "error_x": {
             "color": "#2a3f5f"
            },
            "error_y": {
             "color": "#2a3f5f"
            },
            "marker": {
             "line": {
              "color": "#E5ECF6",
              "width": 0.5
             },
             "pattern": {
              "fillmode": "overlay",
              "size": 10,
              "solidity": 0.2
             }
            },
            "type": "bar"
           }
          ],
          "barpolar": [
           {
            "marker": {
             "line": {
              "color": "#E5ECF6",
              "width": 0.5
             },
             "pattern": {
              "fillmode": "overlay",
              "size": 10,
              "solidity": 0.2
             }
            },
            "type": "barpolar"
           }
          ],
          "carpet": [
           {
            "aaxis": {
             "endlinecolor": "#2a3f5f",
             "gridcolor": "white",
             "linecolor": "white",
             "minorgridcolor": "white",
             "startlinecolor": "#2a3f5f"
            },
            "baxis": {
             "endlinecolor": "#2a3f5f",
             "gridcolor": "white",
             "linecolor": "white",
             "minorgridcolor": "white",
             "startlinecolor": "#2a3f5f"
            },
            "type": "carpet"
           }
          ],
          "choropleth": [
           {
            "colorbar": {
             "outlinewidth": 0,
             "ticks": ""
            },
            "type": "choropleth"
           }
          ],
          "contour": [
           {
            "colorbar": {
             "outlinewidth": 0,
             "ticks": ""
            },
            "colorscale": [
             [
              0,
              "#0d0887"
             ],
             [
              0.1111111111111111,
              "#46039f"
             ],
             [
              0.2222222222222222,
              "#7201a8"
             ],
             [
              0.3333333333333333,
              "#9c179e"
             ],
             [
              0.4444444444444444,
              "#bd3786"
             ],
             [
              0.5555555555555556,
              "#d8576b"
             ],
             [
              0.6666666666666666,
              "#ed7953"
             ],
             [
              0.7777777777777778,
              "#fb9f3a"
             ],
             [
              0.8888888888888888,
              "#fdca26"
             ],
             [
              1,
              "#f0f921"
             ]
            ],
            "type": "contour"
           }
          ],
          "contourcarpet": [
           {
            "colorbar": {
             "outlinewidth": 0,
             "ticks": ""
            },
            "type": "contourcarpet"
           }
          ],
          "heatmap": [
           {
            "colorbar": {
             "outlinewidth": 0,
             "ticks": ""
            },
            "colorscale": [
             [
              0,
              "#0d0887"
             ],
             [
              0.1111111111111111,
              "#46039f"
             ],
             [
              0.2222222222222222,
              "#7201a8"
             ],
             [
              0.3333333333333333,
              "#9c179e"
             ],
             [
              0.4444444444444444,
              "#bd3786"
             ],
             [
              0.5555555555555556,
              "#d8576b"
             ],
             [
              0.6666666666666666,
              "#ed7953"
             ],
             [
              0.7777777777777778,
              "#fb9f3a"
             ],
             [
              0.8888888888888888,
              "#fdca26"
             ],
             [
              1,
              "#f0f921"
             ]
            ],
            "type": "heatmap"
           }
          ],
          "histogram": [
           {
            "marker": {
             "pattern": {
              "fillmode": "overlay",
              "size": 10,
              "solidity": 0.2
             }
            },
            "type": "histogram"
           }
          ],
          "histogram2d": [
           {
            "colorbar": {
             "outlinewidth": 0,
             "ticks": ""
            },
            "colorscale": [
             [
              0,
              "#0d0887"
             ],
             [
              0.1111111111111111,
              "#46039f"
             ],
             [
              0.2222222222222222,
              "#7201a8"
             ],
             [
              0.3333333333333333,
              "#9c179e"
             ],
             [
              0.4444444444444444,
              "#bd3786"
             ],
             [
              0.5555555555555556,
              "#d8576b"
             ],
             [
              0.6666666666666666,
              "#ed7953"
             ],
             [
              0.7777777777777778,
              "#fb9f3a"
             ],
             [
              0.8888888888888888,
              "#fdca26"
             ],
             [
              1,
              "#f0f921"
             ]
            ],
            "type": "histogram2d"
           }
          ],
          "histogram2dcontour": [
           {
            "colorbar": {
             "outlinewidth": 0,
             "ticks": ""
            },
            "colorscale": [
             [
              0,
              "#0d0887"
             ],
             [
              0.1111111111111111,
              "#46039f"
             ],
             [
              0.2222222222222222,
              "#7201a8"
             ],
             [
              0.3333333333333333,
              "#9c179e"
             ],
             [
              0.4444444444444444,
              "#bd3786"
             ],
             [
              0.5555555555555556,
              "#d8576b"
             ],
             [
              0.6666666666666666,
              "#ed7953"
             ],
             [
              0.7777777777777778,
              "#fb9f3a"
             ],
             [
              0.8888888888888888,
              "#fdca26"
             ],
             [
              1,
              "#f0f921"
             ]
            ],
            "type": "histogram2dcontour"
           }
          ],
          "mesh3d": [
           {
            "colorbar": {
             "outlinewidth": 0,
             "ticks": ""
            },
            "type": "mesh3d"
           }
          ],
          "parcoords": [
           {
            "line": {
             "colorbar": {
              "outlinewidth": 0,
              "ticks": ""
             }
            },
            "type": "parcoords"
           }
          ],
          "pie": [
           {
            "automargin": true,
            "type": "pie"
           }
          ],
          "scatter": [
           {
            "fillpattern": {
             "fillmode": "overlay",
             "size": 10,
             "solidity": 0.2
            },
            "type": "scatter"
           }
          ],
          "scatter3d": [
           {
            "line": {
             "colorbar": {
              "outlinewidth": 0,
              "ticks": ""
             }
            },
            "marker": {
             "colorbar": {
              "outlinewidth": 0,
              "ticks": ""
             }
            },
            "type": "scatter3d"
           }
          ],
          "scattercarpet": [
           {
            "marker": {
             "colorbar": {
              "outlinewidth": 0,
              "ticks": ""
             }
            },
            "type": "scattercarpet"
           }
          ],
          "scattergeo": [
           {
            "marker": {
             "colorbar": {
              "outlinewidth": 0,
              "ticks": ""
             }
            },
            "type": "scattergeo"
           }
          ],
          "scattergl": [
           {
            "marker": {
             "colorbar": {
              "outlinewidth": 0,
              "ticks": ""
             }
            },
            "type": "scattergl"
           }
          ],
          "scattermap": [
           {
            "marker": {
             "colorbar": {
              "outlinewidth": 0,
              "ticks": ""
             }
            },
            "type": "scattermap"
           }
          ],
          "scattermapbox": [
           {
            "marker": {
             "colorbar": {
              "outlinewidth": 0,
              "ticks": ""
             }
            },
            "type": "scattermapbox"
           }
          ],
          "scatterpolar": [
           {
            "marker": {
             "colorbar": {
              "outlinewidth": 0,
              "ticks": ""
             }
            },
            "type": "scatterpolar"
           }
          ],
          "scatterpolargl": [
           {
            "marker": {
             "colorbar": {
              "outlinewidth": 0,
              "ticks": ""
             }
            },
            "type": "scatterpolargl"
           }
          ],
          "scatterternary": [
           {
            "marker": {
             "colorbar": {
              "outlinewidth": 0,
              "ticks": ""
             }
            },
            "type": "scatterternary"
           }
          ],
          "surface": [
           {
            "colorbar": {
             "outlinewidth": 0,
             "ticks": ""
            },
            "colorscale": [
             [
              0,
              "#0d0887"
             ],
             [
              0.1111111111111111,
              "#46039f"
             ],
             [
              0.2222222222222222,
              "#7201a8"
             ],
             [
              0.3333333333333333,
              "#9c179e"
             ],
             [
              0.4444444444444444,
              "#bd3786"
             ],
             [
              0.5555555555555556,
              "#d8576b"
             ],
             [
              0.6666666666666666,
              "#ed7953"
             ],
             [
              0.7777777777777778,
              "#fb9f3a"
             ],
             [
              0.8888888888888888,
              "#fdca26"
             ],
             [
              1,
              "#f0f921"
             ]
            ],
            "type": "surface"
           }
          ],
          "table": [
           {
            "cells": {
             "fill": {
              "color": "#EBF0F8"
             },
             "line": {
              "color": "white"
             }
            },
            "header": {
             "fill": {
              "color": "#C8D4E3"
             },
             "line": {
              "color": "white"
             }
            },
            "type": "table"
           }
          ]
         },
         "layout": {
          "annotationdefaults": {
           "arrowcolor": "#2a3f5f",
           "arrowhead": 0,
           "arrowwidth": 1
          },
          "autotypenumbers": "strict",
          "coloraxis": {
           "colorbar": {
            "outlinewidth": 0,
            "ticks": ""
           }
          },
          "colorscale": {
           "diverging": [
            [
             0,
             "#8e0152"
            ],
            [
             0.1,
             "#c51b7d"
            ],
            [
             0.2,
             "#de77ae"
            ],
            [
             0.3,
             "#f1b6da"
            ],
            [
             0.4,
             "#fde0ef"
            ],
            [
             0.5,
             "#f7f7f7"
            ],
            [
             0.6,
             "#e6f5d0"
            ],
            [
             0.7,
             "#b8e186"
            ],
            [
             0.8,
             "#7fbc41"
            ],
            [
             0.9,
             "#4d9221"
            ],
            [
             1,
             "#276419"
            ]
           ],
           "sequential": [
            [
             0,
             "#0d0887"
            ],
            [
             0.1111111111111111,
             "#46039f"
            ],
            [
             0.2222222222222222,
             "#7201a8"
            ],
            [
             0.3333333333333333,
             "#9c179e"
            ],
            [
             0.4444444444444444,
             "#bd3786"
            ],
            [
             0.5555555555555556,
             "#d8576b"
            ],
            [
             0.6666666666666666,
             "#ed7953"
            ],
            [
             0.7777777777777778,
             "#fb9f3a"
            ],
            [
             0.8888888888888888,
             "#fdca26"
            ],
            [
             1,
             "#f0f921"
            ]
           ],
           "sequentialminus": [
            [
             0,
             "#0d0887"
            ],
            [
             0.1111111111111111,
             "#46039f"
            ],
            [
             0.2222222222222222,
             "#7201a8"
            ],
            [
             0.3333333333333333,
             "#9c179e"
            ],
            [
             0.4444444444444444,
             "#bd3786"
            ],
            [
             0.5555555555555556,
             "#d8576b"
            ],
            [
             0.6666666666666666,
             "#ed7953"
            ],
            [
             0.7777777777777778,
             "#fb9f3a"
            ],
            [
             0.8888888888888888,
             "#fdca26"
            ],
            [
             1,
             "#f0f921"
            ]
           ]
          },
          "colorway": [
           "#636efa",
           "#EF553B",
           "#00cc96",
           "#ab63fa",
           "#FFA15A",
           "#19d3f3",
           "#FF6692",
           "#B6E880",
           "#FF97FF",
           "#FECB52"
          ],
          "font": {
           "color": "#2a3f5f"
          },
          "geo": {
           "bgcolor": "white",
           "lakecolor": "white",
           "landcolor": "#E5ECF6",
           "showlakes": true,
           "showland": true,
           "subunitcolor": "white"
          },
          "hoverlabel": {
           "align": "left"
          },
          "hovermode": "closest",
          "mapbox": {
           "style": "light"
          },
          "paper_bgcolor": "white",
          "plot_bgcolor": "#E5ECF6",
          "polar": {
           "angularaxis": {
            "gridcolor": "white",
            "linecolor": "white",
            "ticks": ""
           },
           "bgcolor": "#E5ECF6",
           "radialaxis": {
            "gridcolor": "white",
            "linecolor": "white",
            "ticks": ""
           }
          },
          "scene": {
           "xaxis": {
            "backgroundcolor": "#E5ECF6",
            "gridcolor": "white",
            "gridwidth": 2,
            "linecolor": "white",
            "showbackground": true,
            "ticks": "",
            "zerolinecolor": "white"
           },
           "yaxis": {
            "backgroundcolor": "#E5ECF6",
            "gridcolor": "white",
            "gridwidth": 2,
            "linecolor": "white",
            "showbackground": true,
            "ticks": "",
            "zerolinecolor": "white"
           },
           "zaxis": {
            "backgroundcolor": "#E5ECF6",
            "gridcolor": "white",
            "gridwidth": 2,
            "linecolor": "white",
            "showbackground": true,
            "ticks": "",
            "zerolinecolor": "white"
           }
          },
          "shapedefaults": {
           "line": {
            "color": "#2a3f5f"
           }
          },
          "ternary": {
           "aaxis": {
            "gridcolor": "white",
            "linecolor": "white",
            "ticks": ""
           },
           "baxis": {
            "gridcolor": "white",
            "linecolor": "white",
            "ticks": ""
           },
           "bgcolor": "#E5ECF6",
           "caxis": {
            "gridcolor": "white",
            "linecolor": "white",
            "ticks": ""
           }
          },
          "title": {
           "x": 0.05
          },
          "xaxis": {
           "automargin": true,
           "gridcolor": "white",
           "linecolor": "white",
           "ticks": "",
           "title": {
            "standoff": 15
           },
           "zerolinecolor": "white",
           "zerolinewidth": 2
          },
          "yaxis": {
           "automargin": true,
           "gridcolor": "white",
           "linecolor": "white",
           "ticks": "",
           "title": {
            "standoff": 15
           },
           "zerolinecolor": "white",
           "zerolinewidth": 2
          }
         }
        },
        "title": {
         "text": "Climate Risk vs Market Capitalization"
        },
        "xaxis": {
         "anchor": "y",
         "domain": [
          0,
          1
         ],
         "title": {
          "text": "Market Cap (Billions USD)"
         }
        },
        "yaxis": {
         "anchor": "x",
         "domain": [
          0,
          1
         ],
         "title": {
          "text": "Climate Risk Score"
         }
        }
       }
      },
      "image/png": "[encoded data removed]"
     },
     "metadata": {},
     "output_type": "display_data"
    },
    {
     "name": "stdout",
     "output_type": "stream",
     "text": [
      "\n",
      "Step 4 Complete: All visualizations created and displayed\n"
     ]
    }
   ],
   "source": [
    "# Step 3: Climate Risk Visualizations\n",
    "import pandas as pd\n",
    "import numpy as np\n",
    "import plotly.express as px\n",
    "import plotly.graph_objects as go\n",
    "from plotly.subplots import make_subplots\n",
    "\n",
    "class ClimateRiskVisualizer:\n",
    "    def __init__(self):\n",
    "        self.colors = {\n",
    "            'Critical Risk': '#d63031',    # Red\n",
    "            'High Risk': '#e17055',        # Orange-red  \n",
    "            'Medium Risk': '#fdcb6e',      # Yellow\n",
    "            'Low Risk': '#6c5ce7',         # Purple\n",
    "            'Minimal Risk': '#00b894'      # Green\n",
    "        }\n",
    "    \n",
    "    def load_risk_data(self):\n",
    "        \"\"\"Load the climate risk analysis results\"\"\"\n",
    "        try:\n",
    "            df = pd.read_csv('data/climate_risk_analysis.csv')\n",
    "            print(f\"Loaded risk analysis for {len(df)} companies\")\n",
    "            return df\n",
    "        except FileNotFoundError:\n",
    "            print(\"Error: climate_risk_analysis.csv not found. Run Step 3 first.\")\n",
    "            return None\n",
    "    \n",
    "    def create_risk_distribution_chart(self, df):\n",
    "        \"\"\"Create bar chart showing risk scores by company\"\"\"\n",
    "        # Sort by composite risk score\n",
    "        df_sorted = df.sort_values('composite_risk', ascending=True)\n",
    "        \n",
    "        # Create color mapping\n",
    "        colors = [self.colors[risk] for risk in df_sorted['risk_category']]\n",
    "        \n",
    "        fig = go.Figure(data=[\n",
    "            go.Bar(\n",
    "                y=df_sorted['symbol'],\n",
    "                x=df_sorted['composite_risk'],\n",
    "                text=df_sorted['composite_risk'].round(1),\n",
    "                textposition='auto',\n",
    "                marker_color=colors,\n",
    "                orientation='h'\n",
    "            )\n",
    "        ])\n",
    "        \n",
    "        fig.update_layout(\n",
    "            title='Climate Risk Scores by Company',\n",
    "            xaxis_title='Climate Risk Score (0-100)',\n",
    "            yaxis_title='Company',\n",
    "            height=600,\n",
    "            showlegend=False\n",
    "        )\n",
    "        \n",
    "        return fig\n",
    "    \n",
    "    def create_sector_analysis_chart(self, df):\n",
    "        \"\"\"Create sector-level analysis chart\"\"\"\n",
    "        sector_stats = df.groupby('sector').agg({\n",
    "            'composite_risk': ['mean', 'min', 'max', 'count']\n",
    "        }).round(1)\n",
    "        \n",
    "        sector_stats.columns = ['avg_risk', 'min_risk', 'max_risk', 'company_count']\n",
    "        sector_stats = sector_stats.reset_index().sort_values('avg_risk', ascending=False)\n",
    "        \n",
    "        fig = go.Figure()\n",
    "        \n",
    "        # Add average risk bars\n",
    "        fig.add_trace(go.Bar(\n",
    "            x=sector_stats['sector'],\n",
    "            y=sector_stats['avg_risk'],\n",
    "            name='Average Risk',\n",
    "            marker_color='steelblue',\n",
    "            text=sector_stats['avg_risk'],\n",
    "            textposition='auto'\n",
    "        ))\n",
    "        \n",
    "        # Add error bars showing min/max range\n",
    "        fig.add_trace(go.Scatter(\n",
    "            x=sector_stats['sector'],\n",
    "            y=sector_stats['max_risk'],\n",
    "            mode='markers',\n",
    "            marker=dict(symbol='triangle-up', size=8, color='red'),\n",
    "            name='Max Risk'\n",
    "        ))\n",
    "        \n",
    "        fig.add_trace(go.Scatter(\n",
    "            x=sector_stats['sector'],\n",
    "            y=sector_stats['min_risk'],\n",
    "            mode='markers',\n",
    "            marker=dict(symbol='triangle-down', size=8, color='green'),\n",
    "            name='Min Risk'\n",
    "        ))\n",
    "        \n",
    "        fig.update_layout(\n",
    "            title='Climate Risk Analysis by Sector',\n",
    "            xaxis_title='Sector',\n",
    "            yaxis_title='Risk Score',\n",
    "            height=500\n",
    "        )\n",
    "        \n",
    "        return fig\n",
    "    \n",
    "    def create_risk_components_chart(self, df):\n",
    "        \"\"\"Create chart showing risk components breakdown\"\"\"\n",
    "        # Select top 10 companies by market cap for clarity\n",
    "        df_top = df.nlargest(10, 'market_cap_billions')\n",
    "        \n",
    "        fig = go.Figure()\n",
    "        \n",
    "        # Physical risk\n",
    "        fig.add_trace(go.Bar(\n",
    "            name='Physical Risk',\n",
    "            x=df_top['symbol'],\n",
    "            y=df_top['physical_risk'],\n",
    "            marker_color='lightcoral'\n",
    "        ))\n",
    "        \n",
    "        # Transition risk\n",
    "        fig.add_trace(go.Bar(\n",
    "            name='Transition Risk',\n",
    "            x=df_top['symbol'],\n",
    "            y=df_top['transition_risk'],\n",
    "            marker_color='lightblue'\n",
    "        ))\n",
    "        \n",
    "        # Financial resilience (inverted for stacking)\n",
    "        fig.add_trace(go.Bar(\n",
    "            name='Low Resilience',\n",
    "            x=df_top['symbol'],\n",
    "            y=100 - df_top['financial_resilience'],\n",
    "            marker_color='lightyellow'\n",
    "        ))\n",
    "        \n",
    "        fig.update_layout(\n",
    "            title='Climate Risk Components - Top 10 Companies by Market Cap',\n",
    "            xaxis_title='Company',\n",
    "            yaxis_title='Risk Score',\n",
    "            barmode='group',\n",
    "            height=500\n",
    "        )\n",
    "        \n",
    "        return fig\n",
    "    \n",
    "    def create_risk_vs_marketcap_scatter(self, df):\n",
    "        \"\"\"Create scatter plot of risk vs market cap\"\"\"\n",
    "        fig = px.scatter(\n",
    "            df,\n",
    "            x='market_cap_billions',\n",
    "            y='composite_risk',\n",
    "            color='risk_category',\n",
    "            size='market_cap_billions',\n",
    "            hover_data=['symbol', 'name', 'sector'],\n",
    "            title='Climate Risk vs Market Capitalization',\n",
    "            labels={\n",
    "                'market_cap_billions': 'Market Cap (Billions USD)',\n",
    "                'composite_risk': 'Climate Risk Score'\n",
    "            },\n",
    "            color_discrete_map=self.colors\n",
    "        )\n",
    "        \n",
    "        fig.update_layout(height=500)\n",
    "        return fig\n",
    "    \n",
    "    def create_summary_table(self, df):\n",
    "        \"\"\"Create a summary statistics table\"\"\"\n",
    "        summary_stats = {\n",
    "            'Metric': [\n",
    "                'Total Companies Analyzed',\n",
    "                'Average Risk Score',\n",
    "                'Highest Risk Company',\n",
    "                'Lowest Risk Company',\n",
    "                'Most Risky Sector',\n",
    "                'Least Risky Sector',\n",
    "                'Companies in Critical Risk',\n",
    "                'Companies in Minimal Risk'\n",
    "            ],\n",
    "            'Value': [\n",
    "                len(df),\n",
    "                f\"{df['composite_risk'].mean():.1f}\",\n",
    "                df.loc[df['composite_risk'].idxmax(), 'symbol'],\n",
    "                df.loc[df['composite_risk'].idxmin(), 'symbol'],\n",
    "                df.groupby('sector')['composite_risk'].mean().idxmax(),\n",
    "                df.groupby('sector')['composite_risk'].mean().idxmin(),\n",
    "                len(df[df['risk_category'] == 'Critical Risk']),\n",
    "                len(df[df['risk_category'] == 'Minimal Risk'])\n",
    "            ]\n",
    "        }\n",
    "        \n",
    "        return pd.DataFrame(summary_stats)\n",
    "\n",
    "# Initialize visualizer\n",
    "visualizer = ClimateRiskVisualizer()\n",
    "\n",
    "# Load risk analysis data\n",
    "print(\"Step 4.1: Loading climate risk analysis data...\")\n",
    "risk_data = visualizer.load_risk_data()\n",
    "\n",
    "if risk_data is not None:\n",
    "    print(\"Step 4.2: Creating visualizations...\")\n",
    "    \n",
    "    # Create summary table\n",
    "    summary_table = visualizer.create_summary_table(risk_data)\n",
    "    print(\"Summary Statistics:\")\n",
    "    print(summary_table.to_string(index=False))\n",
    "    \n",
    "    # Create visualizations\n",
    "    print(\"\\nStep 4.3: Generating charts...\")\n",
    "    \n",
    "    # 1. Risk distribution chart\n",
    "    risk_dist_chart = visualizer.create_risk_distribution_chart(risk_data)\n",
    "    print(\"Created: Risk distribution chart\")\n",
    "    \n",
    "    # 2. Sector analysis chart  \n",
    "    sector_chart = visualizer.create_sector_analysis_chart(risk_data)\n",
    "    print(\"Created: Sector analysis chart\")\n",
    "    \n",
    "    # 3. Risk components chart\n",
    "    components_chart = visualizer.create_risk_components_chart(risk_data)\n",
    "    print(\"Created: Risk components chart\")\n",
    "    \n",
    "    # 4. Risk vs market cap scatter\n",
    "    scatter_chart = visualizer.create_risk_vs_marketcap_scatter(risk_data)\n",
    "    print(\"Created: Risk vs market cap scatter plot\")\n",
    "    \n",
    "    # Display charts (they will show in separate windows/tabs)\n",
    "    print(\"\\nStep 4.4: Displaying charts...\")\n",
    "    risk_dist_chart.show()\n",
    "    sector_chart.show()\n",
    "    components_chart.show()\n",
    "    scatter_chart.show()\n",
    "    \n",
    "    print(\"\\nStep 4 Complete: All visualizations created and displayed\")\n",
    "    \n",
    "else:\n",
    "    print(\"Cannot create visualizations without risk analysis data\")"
   ]
  },
  {
   "cell_type": "code",
   "execution_count": 11,
   "id": "f72cf5d3-826f-4aa2-b57b-346f31b9ceb4",
   "metadata": {},
   "outputs": [
    {
     "name": "stdout",
     "output_type": "stream",
     "text": [
      "Jupyter working directory: C:\\Users\\joshn\\Documents\\climate-intelligence-platform\\climate_env\n",
      "CSV files found: ['climate_risk_analysis.csv', 'company_financial_data.csv', 'company_list.csv']\n",
      "✓ Found: company_financial_data.csv\n",
      "  Full path: C:\\Users\\joshn\\Documents\\climate-intelligence-platform\\climate_env\\company_financial_data.csv\n",
      "✓ Found: climate_risk_analysis.csv\n",
      "  Full path: C:\\Users\\joshn\\Documents\\climate-intelligence-platform\\climate_env\\climate_risk_analysis.csv\n",
      "✓ Found: company_list.csv\n",
      "  Full path: C:\\Users\\joshn\\Documents\\climate-intelligence-platform\\climate_env\\company_list.csv\n"
     ]
    }
   ],
   "source": [
    "import os\n",
    "import shutil\n",
    "\n",
    "# Check current directory in Jupyter\n",
    "print(\"Jupyter working directory:\", os.getcwd())\n",
    "\n",
    "# List all CSV files in current directory\n",
    "csv_files = [f for f in os.listdir('.') if f.endswith('.csv')]\n",
    "print(\"CSV files found:\", csv_files)\n",
    "\n",
    "# Check if our specific files exist\n",
    "required_files = [\n",
    "    'company_financial_data.csv',\n",
    "    'climate_risk_analysis.csv', \n",
    "    'company_list.csv'\n",
    "]\n",
    "\n",
    "for file in required_files:\n",
    "    if os.path.exists(file):\n",
    "        print(f\"✓ Found: {file}\")\n",
    "        # Show the full path\n",
    "        print(f\"  Full path: {os.path.abspath(file)}\")\n",
    "    else:\n",
    "        print(f\"✗ Missing: {file}\")"
   ]
  },
  {
   "cell_type": "code",
   "execution_count": null,
   "id": "c3d84f94-cf54-4f9e-8d9d-1c01bb459c5a",
   "metadata": {},
   "outputs": [],
   "source": []
  }
 ],
 "metadata": {
  "kernelspec": {
   "display_name": "Python 3 (ipykernel)",
   "language": "python",
   "name": "python3"
  },
  "language_info": {
   "codemirror_mode": {
    "name": "ipython",
    "version": 3
   },
   "file_extension": ".py",
   "mimetype": "text/x-python",
   "name": "python",
   "nbconvert_exporter": "python",
   "pygments_lexer": "ipython3",
   "version": "3.12.6"
  }
 },
 "nbformat": 4,
 "nbformat_minor": 5
}
